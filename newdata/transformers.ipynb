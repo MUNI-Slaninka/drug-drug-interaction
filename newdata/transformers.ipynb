{
 "cells": [
  {
   "cell_type": "code",
   "execution_count": 8,
   "id": "12d35154f3b641b7",
   "metadata": {
    "ExecuteTime": {
     "start_time": "2024-04-29T16:34:37.279712800Z"
    },
    "collapsed": false,
    "is_executing": true
   },
   "outputs": [
    {
     "name": "stdout",
     "output_type": "stream",
     "text": [
      "Looking in indexes: https://download.pytorch.org/whl/cu118\n",
      "Requirement already satisfied: torch in c:\\users\\adamm\\appdata\\local\\packages\\pythonsoftwarefoundation.python.3.11_qbz5n2kfra8p0\\localcache\\local-packages\\python311\\site-packages (2.3.0+cu118)\n",
      "Requirement already satisfied: torchvision in c:\\users\\adamm\\appdata\\local\\packages\\pythonsoftwarefoundation.python.3.11_qbz5n2kfra8p0\\localcache\\local-packages\\python311\\site-packages (0.18.0+cu118)\n",
      "Requirement already satisfied: torchaudio in c:\\users\\adamm\\appdata\\local\\packages\\pythonsoftwarefoundation.python.3.11_qbz5n2kfra8p0\\localcache\\local-packages\\python311\\site-packages (2.3.0+cu118)\n",
      "Requirement already satisfied: filelock in c:\\users\\adamm\\appdata\\local\\packages\\pythonsoftwarefoundation.python.3.11_qbz5n2kfra8p0\\localcache\\local-packages\\python311\\site-packages (from torch) (3.12.0)\n",
      "Requirement already satisfied: typing-extensions>=4.8.0 in c:\\users\\adamm\\appdata\\local\\packages\\pythonsoftwarefoundation.python.3.11_qbz5n2kfra8p0\\localcache\\local-packages\\python311\\site-packages (from torch) (4.9.0)\n",
      "Requirement already satisfied: sympy in c:\\users\\adamm\\appdata\\local\\packages\\pythonsoftwarefoundation.python.3.11_qbz5n2kfra8p0\\localcache\\local-packages\\python311\\site-packages (from torch) (1.11.1)\n",
      "Requirement already satisfied: networkx in c:\\users\\adamm\\appdata\\local\\packages\\pythonsoftwarefoundation.python.3.11_qbz5n2kfra8p0\\localcache\\local-packages\\python311\\site-packages (from torch) (3.1)\n",
      "Requirement already satisfied: jinja2 in c:\\users\\adamm\\appdata\\local\\packages\\pythonsoftwarefoundation.python.3.11_qbz5n2kfra8p0\\localcache\\local-packages\\python311\\site-packages (from torch) (3.1.2)\n",
      "Requirement already satisfied: fsspec in c:\\users\\adamm\\appdata\\local\\packages\\pythonsoftwarefoundation.python.3.11_qbz5n2kfra8p0\\localcache\\local-packages\\python311\\site-packages (from torch) (2024.2.0)\n",
      "Requirement already satisfied: mkl<=2021.4.0,>=2021.1.1 in c:\\users\\adamm\\appdata\\local\\packages\\pythonsoftwarefoundation.python.3.11_qbz5n2kfra8p0\\localcache\\local-packages\\python311\\site-packages (from torch) (2021.4.0)\n",
      "Requirement already satisfied: numpy in c:\\users\\adamm\\appdata\\local\\packages\\pythonsoftwarefoundation.python.3.11_qbz5n2kfra8p0\\localcache\\local-packages\\python311\\site-packages (from torchvision) (1.24.3)\n",
      "Requirement already satisfied: pillow!=8.3.*,>=5.3.0 in c:\\users\\adamm\\appdata\\local\\packages\\pythonsoftwarefoundation.python.3.11_qbz5n2kfra8p0\\localcache\\local-packages\\python311\\site-packages (from torchvision) (9.5.0)\n",
      "Requirement already satisfied: intel-openmp==2021.* in c:\\users\\adamm\\appdata\\local\\packages\\pythonsoftwarefoundation.python.3.11_qbz5n2kfra8p0\\localcache\\local-packages\\python311\\site-packages (from mkl<=2021.4.0,>=2021.1.1->torch) (2021.4.0)\n",
      "Requirement already satisfied: tbb==2021.* in c:\\users\\adamm\\appdata\\local\\packages\\pythonsoftwarefoundation.python.3.11_qbz5n2kfra8p0\\localcache\\local-packages\\python311\\site-packages (from mkl<=2021.4.0,>=2021.1.1->torch) (2021.11.0)\n",
      "Requirement already satisfied: MarkupSafe>=2.0 in c:\\users\\adamm\\appdata\\local\\packages\\pythonsoftwarefoundation.python.3.11_qbz5n2kfra8p0\\localcache\\local-packages\\python311\\site-packages (from jinja2->torch) (2.1.2)\n",
      "Requirement already satisfied: mpmath>=0.19 in c:\\users\\adamm\\appdata\\local\\packages\\pythonsoftwarefoundation.python.3.11_qbz5n2kfra8p0\\localcache\\local-packages\\python311\\site-packages (from sympy->torch) (1.3.0)\n"
     ]
    },
    {
     "name": "stderr",
     "output_type": "stream",
     "text": [
      "\n",
      "[notice] A new release of pip is available: 23.1.2 -> 24.0\n",
      "[notice] To update, run: C:\\Users\\adamm\\AppData\\Local\\Microsoft\\WindowsApps\\PythonSoftwareFoundation.Python.3.11_qbz5n2kfra8p0\\python.exe -m pip install --upgrade pip\n",
      "ERROR: Could not find a version that satisfies the requirement sentence_transformers==4.37.2 (from versions: 0.1.0, 0.2.0, 0.2.1, 0.2.2, 0.2.3, 0.2.4, 0.2.4.1, 0.2.5, 0.2.5.1, 0.2.6, 0.2.6.1, 0.2.6.2, 0.3.0, 0.3.1, 0.3.2, 0.3.3, 0.3.4, 0.3.5, 0.3.5.1, 0.3.6, 0.3.7, 0.3.7.1, 0.3.7.2, 0.3.8, 0.3.9, 0.4.0, 0.4.1, 0.4.1.1, 0.4.1.2, 1.0.0, 1.0.1, 1.0.2, 1.0.3, 1.0.4, 1.1.0, 1.1.1, 1.2.0, 1.2.1, 2.0.0, 2.1.0, 2.2.0, 2.2.1, 2.2.2, 2.3.0, 2.3.1, 2.4.0, 2.5.0, 2.5.1, 2.6.0, 2.6.1, 2.7.0)\n",
      "ERROR: No matching distribution found for sentence_transformers==4.37.2\n",
      "\n",
      "[notice] A new release of pip is available: 23.1.2 -> 24.0\n",
      "[notice] To update, run: C:\\Users\\adamm\\AppData\\Local\\Microsoft\\WindowsApps\\PythonSoftwareFoundation.Python.3.11_qbz5n2kfra8p0\\python.exe -m pip install --upgrade pip\n"
     ]
    },
    {
     "name": "stdout",
     "output_type": "stream",
     "text": [
      "Requirement already satisfied: pandas in c:\\users\\adamm\\appdata\\local\\packages\\pythonsoftwarefoundation.python.3.11_qbz5n2kfra8p0\\localcache\\local-packages\\python311\\site-packages (2.0.1)\n",
      "Requirement already satisfied: python-dateutil>=2.8.2 in c:\\users\\adamm\\appdata\\local\\packages\\pythonsoftwarefoundation.python.3.11_qbz5n2kfra8p0\\localcache\\local-packages\\python311\\site-packages (from pandas) (2.8.2)\n",
      "Requirement already satisfied: pytz>=2020.1 in c:\\users\\adamm\\appdata\\local\\packages\\pythonsoftwarefoundation.python.3.11_qbz5n2kfra8p0\\localcache\\local-packages\\python311\\site-packages (from pandas) (2023.3)\n",
      "Requirement already satisfied: tzdata>=2022.1 in c:\\users\\adamm\\appdata\\local\\packages\\pythonsoftwarefoundation.python.3.11_qbz5n2kfra8p0\\localcache\\local-packages\\python311\\site-packages (from pandas) (2023.3)\n",
      "Requirement already satisfied: numpy>=1.21.0 in c:\\users\\adamm\\appdata\\local\\packages\\pythonsoftwarefoundation.python.3.11_qbz5n2kfra8p0\\localcache\\local-packages\\python311\\site-packages (from pandas) (1.24.3)\n",
      "Requirement already satisfied: six>=1.5 in c:\\users\\adamm\\appdata\\local\\packages\\pythonsoftwarefoundation.python.3.11_qbz5n2kfra8p0\\localcache\\local-packages\\python311\\site-packages (from python-dateutil>=2.8.2->pandas) (1.16.0)\n"
     ]
    },
    {
     "name": "stderr",
     "output_type": "stream",
     "text": [
      "\n",
      "[notice] A new release of pip is available: 23.1.2 -> 24.0\n",
      "[notice] To update, run: C:\\Users\\adamm\\AppData\\Local\\Microsoft\\WindowsApps\\PythonSoftwareFoundation.Python.3.11_qbz5n2kfra8p0\\python.exe -m pip install --upgrade pip\n"
     ]
    }
   ],
   "source": [
    "! pip install sklearn\n",
    "! pip install pandas\n",
    "! pip install tqdm\n",
    "! pip install -U sentence-transformers\n",
    "! pip install torch torchvision torchaudio --index-url https://download.pytorch.org/whl/cu121"
   ]
  },
  {
   "cell_type": "code",
   "execution_count": 1,
   "id": "initial_id",
   "metadata": {
    "collapsed": true,
    "is_executing": true
   },
   "outputs": [],
   "source": [
    "import pandas as pd\n",
    "import torch\n",
    "\n",
    "from sentence_transformers import SentenceTransformer, losses, models, evaluation\n",
    "from sentence_transformers.readers import InputExample\n",
    "from torch.utils.data import DataLoader\n",
    "from torch import nn\n",
    "from sklearn.metrics import matthews_corrcoef, f1_score, classification_report\n",
    "\n",
    "from numpy.linalg import norm\n",
    "import numpy as np\n",
    "from tqdm import tqdm\n"
   ]
  },
  {
   "cell_type": "markdown",
   "id": "484901b018a55919",
   "metadata": {
    "collapsed": false
   },
   "source": [
    "Create drug-pairs dataset"
   ]
  },
  {
   "cell_type": "code",
   "execution_count": 2,
   "id": "4281d7af6cbdb163",
   "metadata": {
    "ExecuteTime": {
     "end_time": "2024-04-29T16:32:47.010847300Z",
     "start_time": "2024-04-29T16:32:07.261639600Z"
    },
    "collapsed": false
   },
   "outputs": [],
   "source": [
    "df = pd.read_json(\"processed.json\")\n",
    "df.drop(columns=['DRUG_CID', \"DRUG_NAME\"], inplace=True)\n",
    "df['INDEX'] = df.index\n",
    "df1 = df.copy()\n",
    "df2 = df.copy()\n",
    "df1.columns = ['DRUG_ID1', 'INTERACTIONS1', 'STRUCTURE1', 'TARGET1', 'ENZYME1', 'PATH1', 'SIDE_EFFECTS1', 'INDICATIONS1', 'OFFSIDE_EFFECT1', 'INDEX1']\n",
    "df2.columns = ['DRUG_ID2', 'INTERACTIONS2', 'STRUCTURE2', 'TARGET2', 'ENZYME2', 'PATH2', 'SIDE_EFFECTS2', 'INDICATIONS2', 'OFFSIDE_EFFECT2', 'INDEX2']\n",
    "df = pd.merge(df1, df2, how=\"cross\")\n",
    "df = df[df['DRUG_ID1'] != df['DRUG_ID2']]\n",
    "df.reset_index(inplace=True)\n",
    "df['INTERACTION'] = df.apply(lambda row: row['INTERACTIONS1'][row['INDEX2']], axis=1)\n",
    "\n",
    "df['id_pair'] = df[['DRUG_ID1', 'DRUG_ID2']].apply(lambda x: '-'.join(sorted(map(str, x))), axis=1)\n",
    "df.drop_duplicates(subset='id_pair', inplace=True)\n",
    "df.dropna(inplace=True)\n",
    "df.drop(columns=[\"index\", 'INTERACTIONS1', 'INTERACTIONS2', 'INDEX1', 'INDEX2', 'id_pair'], inplace=True)\n",
    "\n",
    "df = df.sample(frac=1, random_state=42).reset_index(drop=True)"
   ]
  },
  {
   "cell_type": "markdown",
   "id": "c7c92fa3",
   "metadata": {},
   "source": [
    "Create data for transformers saved individually for each feature in a dict"
   ]
  },
  {
   "cell_type": "code",
   "execution_count": 3,
   "id": "c9b0604b90523776",
   "metadata": {
    "collapsed": false
   },
   "outputs": [],
   "source": [
    "data = {}\n",
    "to_edit = ['STRUCTURE', 'TARGET', 'ENZYME', 'PATH', 'SIDE_EFFECTS', 'INDICATIONS', 'OFFSIDE_EFFECT']\n",
    "for column in to_edit:\n",
    "    column1 = column + '1'\n",
    "    column2 = column + '2'\n",
    "    data[column] = [InputExample(texts=[\" \".join(map(str, row[0])), \" \".join(map(str, row[1]))], label=row[2])\n",
    "                    for row in zip(df[column1], df[column2], df['INTERACTION'])]"
   ]
  },
  {
   "cell_type": "markdown",
   "id": "fec8f2f9",
   "metadata": {},
   "source": [
    "Spit train and test data"
   ]
  },
  {
   "cell_type": "code",
   "execution_count": 7,
   "id": "46933e55",
   "metadata": {},
   "outputs": [],
   "source": [
    "split = int(len(data['STRUCTURE']) * 0.8)\n",
    "structure_train_data = data['STRUCTURE'][:split]\n",
    "structure_test_data = data['STRUCTURE'][split:]"
   ]
  },
  {
   "cell_type": "code",
   "execution_count": 12,
   "id": "18f5fd3bbbda0a3f",
   "metadata": {
    "ExecuteTime": {
     "end_time": "2024-04-29T16:33:56.648109300Z",
     "start_time": "2024-04-29T16:32:47.008846800Z"
    },
    "collapsed": false
   },
   "outputs": [
    {
     "data": {
      "application/vnd.jupyter.widget-view+json": {
       "model_id": "9080e97893ed4759a4c7cb6c32e76cff",
       "version_major": 2,
       "version_minor": 0
      },
      "text/plain": [
       "Epoch:   0%|          | 0/10 [00:00<?, ?it/s]"
      ]
     },
     "metadata": {},
     "output_type": "display_data"
    },
    {
     "data": {
      "application/vnd.jupyter.widget-view+json": {
       "model_id": "0ded3660689440ffb52fcd9105a1ae92",
       "version_major": 2,
       "version_minor": 0
      },
      "text/plain": [
       "Iteration:   0%|          | 0/19847 [00:00<?, ?it/s]"
      ]
     },
     "metadata": {},
     "output_type": "display_data"
    },
    {
     "data": {
      "application/vnd.jupyter.widget-view+json": {
       "model_id": "f033404d01b5452c987a3b636604232d",
       "version_major": 2,
       "version_minor": 0
      },
      "text/plain": [
       "Iteration:   0%|          | 0/19847 [00:00<?, ?it/s]"
      ]
     },
     "metadata": {},
     "output_type": "display_data"
    },
    {
     "data": {
      "application/vnd.jupyter.widget-view+json": {
       "model_id": "07b100e3c6fd477196a65e541675a0a2",
       "version_major": 2,
       "version_minor": 0
      },
      "text/plain": [
       "Iteration:   0%|          | 0/19847 [00:00<?, ?it/s]"
      ]
     },
     "metadata": {},
     "output_type": "display_data"
    },
    {
     "data": {
      "application/vnd.jupyter.widget-view+json": {
       "model_id": "5a084a170aae4031bf05d7cd76155d36",
       "version_major": 2,
       "version_minor": 0
      },
      "text/plain": [
       "Iteration:   0%|          | 0/19847 [00:00<?, ?it/s]"
      ]
     },
     "metadata": {},
     "output_type": "display_data"
    },
    {
     "data": {
      "application/vnd.jupyter.widget-view+json": {
       "model_id": "c8a8249eee2e425cacda8597c7d59b5a",
       "version_major": 2,
       "version_minor": 0
      },
      "text/plain": [
       "Iteration:   0%|          | 0/19847 [00:00<?, ?it/s]"
      ]
     },
     "metadata": {},
     "output_type": "display_data"
    },
    {
     "data": {
      "application/vnd.jupyter.widget-view+json": {
       "model_id": "871ba8edef844bc095694276c36b7b88",
       "version_major": 2,
       "version_minor": 0
      },
      "text/plain": [
       "Iteration:   0%|          | 0/19847 [00:00<?, ?it/s]"
      ]
     },
     "metadata": {},
     "output_type": "display_data"
    },
    {
     "data": {
      "application/vnd.jupyter.widget-view+json": {
       "model_id": "7357ed7daf8440239c593d10ceea6581",
       "version_major": 2,
       "version_minor": 0
      },
      "text/plain": [
       "Iteration:   0%|          | 0/19847 [00:00<?, ?it/s]"
      ]
     },
     "metadata": {},
     "output_type": "display_data"
    },
    {
     "data": {
      "application/vnd.jupyter.widget-view+json": {
       "model_id": "178c28cb40234911b2b61e923f0d1704",
       "version_major": 2,
       "version_minor": 0
      },
      "text/plain": [
       "Iteration:   0%|          | 0/19847 [00:00<?, ?it/s]"
      ]
     },
     "metadata": {},
     "output_type": "display_data"
    },
    {
     "data": {
      "application/vnd.jupyter.widget-view+json": {
       "model_id": "a1a93d74c3eb49429b4850e2dabf377c",
       "version_major": 2,
       "version_minor": 0
      },
      "text/plain": [
       "Iteration:   0%|          | 0/19847 [00:00<?, ?it/s]"
      ]
     },
     "metadata": {},
     "output_type": "display_data"
    },
    {
     "data": {
      "application/vnd.jupyter.widget-view+json": {
       "model_id": "0532bf60f78b4621b458d79a410bc1b9",
       "version_major": 2,
       "version_minor": 0
      },
      "text/plain": [
       "Iteration:   0%|          | 0/19847 [00:00<?, ?it/s]"
      ]
     },
     "metadata": {},
     "output_type": "display_data"
    }
   ],
   "source": [
    "word_embedding_model = models.Transformer(\"bert-base-uncased\", max_seq_length=512)\n",
    "pooling_model = models.Pooling(word_embedding_model.get_word_embedding_dimension())\n",
    "dense_model = models.Dense(\n",
    "    in_features=pooling_model.get_sentence_embedding_dimension(),\n",
    "    out_features=64,\n",
    "    activation_function=nn.Tanh(),\n",
    ")\n",
    "\n",
    "structure_model = SentenceTransformer(modules=[word_embedding_model, pooling_model, dense_model])\n",
    "train_dataloader = DataLoader(structure_train_data, batch_size=4)\n",
    "train_loss = losses.ContrastiveLoss(model=structure_model)\n",
    "\n",
    "structure_model.fit([(train_dataloader, train_loss)],epochs=10)\n",
    "structure_model.save(\"structure_model\")\n"
   ]
  },
  {
   "cell_type": "code",
   "execution_count": 8,
   "id": "f4989415c48c8f85",
   "metadata": {
    "collapsed": false
   },
   "outputs": [
    {
     "name": "stderr",
     "output_type": "stream",
     "text": [
      "100%|██████████| 19847/19847 [04:43<00:00, 70.12it/s]\n"
     ]
    }
   ],
   "source": [
    "structure_model = SentenceTransformer(\"structure_model\")\n",
    "structure_texts = [example.texts for example in structure_test_data]\n",
    "structure_labels = [example.label for example in structure_test_data]\n",
    "structure_encodings = [structure_model.encode(text, convert_to_numpy=True, convert_to_tensor=False) for text in tqdm(structure_texts)]"
   ]
  },
  {
   "cell_type": "code",
   "execution_count": 11,
   "id": "0fa6c93d",
   "metadata": {},
   "outputs": [
    {
     "name": "stdout",
     "output_type": "stream",
     "text": [
      "Matthews Correlation Coefficient: 0.76672989010064\n",
      "              precision    recall  f1-score   support\n",
      "\n",
      "           0       0.91      0.94      0.92     13216\n",
      "           1       0.87      0.81      0.84      6631\n",
      "\n",
      "    accuracy                           0.90     19847\n",
      "   macro avg       0.89      0.88      0.88     19847\n",
      "weighted avg       0.90      0.90      0.90     19847\n",
      "\n"
     ]
    }
   ],
   "source": [
    "structure_predictions = [1 if np.dot(e[0], e[1]) / (norm(e[0]) * norm(e[1])) > 0.65 else 0 for e in structure_encodings]\n",
    "\n",
    "structure_matthews = matthews_corrcoef(structure_labels, structure_predictions)\n",
    "print(\"Matthews Correlation Coefficient:\", structure_matthews)\n",
    "print(classification_report(structure_labels, structure_predictions))\n"
   ]
  },
  {
   "cell_type": "code",
   "execution_count": 13,
   "id": "76d4d0d9",
   "metadata": {},
   "outputs": [],
   "source": [
    "split = int(len(data['TARGET']) * 0.8)\n",
    "target_train_data = data['TARGET'][:split]\n",
    "target_test_data = data['TARGET'][split:]"
   ]
  },
  {
   "cell_type": "code",
   "execution_count": 13,
   "id": "e5e0c317",
   "metadata": {},
   "outputs": [
    {
     "data": {
      "application/vnd.jupyter.widget-view+json": {
       "model_id": "c0cccd5e48f44638ae2cbaee98aca15b",
       "version_major": 2,
       "version_minor": 0
      },
      "text/plain": [
       "Epoch:   0%|          | 0/10 [00:00<?, ?it/s]"
      ]
     },
     "metadata": {},
     "output_type": "display_data"
    },
    {
     "data": {
      "application/vnd.jupyter.widget-view+json": {
       "model_id": "369b06c5e3a5492faed5a1349995189b",
       "version_major": 2,
       "version_minor": 0
      },
      "text/plain": [
       "Iteration:   0%|          | 0/4962 [00:00<?, ?it/s]"
      ]
     },
     "metadata": {},
     "output_type": "display_data"
    },
    {
     "data": {
      "application/vnd.jupyter.widget-view+json": {
       "model_id": "41db9a5031184abaaf1aa4bbff795bd3",
       "version_major": 2,
       "version_minor": 0
      },
      "text/plain": [
       "Iteration:   0%|          | 0/4962 [00:00<?, ?it/s]"
      ]
     },
     "metadata": {},
     "output_type": "display_data"
    },
    {
     "data": {
      "application/vnd.jupyter.widget-view+json": {
       "model_id": "409767b7dd114f55807732c1503d609b",
       "version_major": 2,
       "version_minor": 0
      },
      "text/plain": [
       "Iteration:   0%|          | 0/4962 [00:00<?, ?it/s]"
      ]
     },
     "metadata": {},
     "output_type": "display_data"
    },
    {
     "data": {
      "application/vnd.jupyter.widget-view+json": {
       "model_id": "97fcad00ba014562a313254526185553",
       "version_major": 2,
       "version_minor": 0
      },
      "text/plain": [
       "Iteration:   0%|          | 0/4962 [00:00<?, ?it/s]"
      ]
     },
     "metadata": {},
     "output_type": "display_data"
    },
    {
     "data": {
      "application/vnd.jupyter.widget-view+json": {
       "model_id": "c5b6a0ae85d6499fa8a27e257060663a",
       "version_major": 2,
       "version_minor": 0
      },
      "text/plain": [
       "Iteration:   0%|          | 0/4962 [00:00<?, ?it/s]"
      ]
     },
     "metadata": {},
     "output_type": "display_data"
    },
    {
     "data": {
      "application/vnd.jupyter.widget-view+json": {
       "model_id": "6d6c8307f2d34a0ab164e4844110c8e4",
       "version_major": 2,
       "version_minor": 0
      },
      "text/plain": [
       "Iteration:   0%|          | 0/4962 [00:00<?, ?it/s]"
      ]
     },
     "metadata": {},
     "output_type": "display_data"
    },
    {
     "data": {
      "application/vnd.jupyter.widget-view+json": {
       "model_id": "2bb6be70f7214cc79d4a8097f78f94df",
       "version_major": 2,
       "version_minor": 0
      },
      "text/plain": [
       "Iteration:   0%|          | 0/4962 [00:00<?, ?it/s]"
      ]
     },
     "metadata": {},
     "output_type": "display_data"
    },
    {
     "data": {
      "application/vnd.jupyter.widget-view+json": {
       "model_id": "3eb86f99905f458faba089d83e6e7f9c",
       "version_major": 2,
       "version_minor": 0
      },
      "text/plain": [
       "Iteration:   0%|          | 0/4962 [00:00<?, ?it/s]"
      ]
     },
     "metadata": {},
     "output_type": "display_data"
    },
    {
     "data": {
      "application/vnd.jupyter.widget-view+json": {
       "model_id": "c8ccc70ea18f4c69b7ed090dc6585902",
       "version_major": 2,
       "version_minor": 0
      },
      "text/plain": [
       "Iteration:   0%|          | 0/4962 [00:00<?, ?it/s]"
      ]
     },
     "metadata": {},
     "output_type": "display_data"
    },
    {
     "data": {
      "application/vnd.jupyter.widget-view+json": {
       "model_id": "dcddbe94327145e18c35cbb4376699c5",
       "version_major": 2,
       "version_minor": 0
      },
      "text/plain": [
       "Iteration:   0%|          | 0/4962 [00:00<?, ?it/s]"
      ]
     },
     "metadata": {},
     "output_type": "display_data"
    }
   ],
   "source": [
    "torch.cuda.empty_cache()\n",
    "\n",
    "word_embedding_model = models.Transformer(\"bert-base-uncased\", max_seq_length=128)\n",
    "pooling_model = models.Pooling(word_embedding_model.get_word_embedding_dimension())\n",
    "dense_model = models.Dense(\n",
    "    in_features=pooling_model.get_sentence_embedding_dimension(),\n",
    "    out_features=64,\n",
    "    activation_function=nn.Tanh(),\n",
    ")\n",
    "\n",
    "target_model = SentenceTransformer(modules=[word_embedding_model, pooling_model, dense_model])\n",
    "train_dataloader = DataLoader(target_train_data, batch_size=16)\n",
    "train_loss = losses.ContrastiveLoss(model=target_model)\n",
    "\n",
    "target_model.fit([(train_dataloader, train_loss)],epochs=10)\n",
    "target_model.save(\"target_model\")\n"
   ]
  },
  {
   "cell_type": "code",
   "execution_count": 14,
   "id": "8435e3f0",
   "metadata": {},
   "outputs": [
    {
     "name": "stderr",
     "output_type": "stream",
     "text": [
      "100%|██████████| 19847/19847 [03:43<00:00, 88.78it/s]\n"
     ]
    }
   ],
   "source": [
    "target_model = SentenceTransformer(\"target_model\")\n",
    "target_texts = [example.texts for example in target_test_data]\n",
    "target_labels = [example.label for example in target_test_data]\n",
    "target_encodings = [target_model.encode(text, convert_to_numpy=True, convert_to_tensor=False) for text in tqdm(target_texts)]"
   ]
  },
  {
   "cell_type": "code",
   "execution_count": 20,
   "id": "839d2e1d",
   "metadata": {},
   "outputs": [
    {
     "name": "stdout",
     "output_type": "stream",
     "text": [
      "Matthews Correlation Coefficient: 0.7027771026711205\n",
      "              precision    recall  f1-score   support\n",
      "\n",
      "           0       0.93      0.85      0.89     13216\n",
      "           1       0.75      0.88      0.81      6631\n",
      "\n",
      "    accuracy                           0.86     19847\n",
      "   macro avg       0.84      0.86      0.85     19847\n",
      "weighted avg       0.87      0.86      0.86     19847\n",
      "\n"
     ]
    }
   ],
   "source": [
    "target_predictions = [1 if np.dot(e[0], e[1]) / (norm(e[0]) * norm(e[1])) > 0.65 else 0 for e in target_encodings]\n",
    "\n",
    "target_matthews = matthews_corrcoef(target_labels, target_predictions)\n",
    "print(\"Matthews Correlation Coefficient:\", target_matthews)\n",
    "print(classification_report(target_labels, target_predictions))"
   ]
  },
  {
   "cell_type": "code",
   "execution_count": 22,
   "id": "2ae28445",
   "metadata": {},
   "outputs": [],
   "source": [
    "split = int(len(data['ENZYME']) * 0.8)\n",
    "enzyme_train_data = data['ENZYME'][:split]\n",
    "enzyme_test_data = data['ENZYME'][split:]"
   ]
  },
  {
   "cell_type": "code",
   "execution_count": 14,
   "id": "121c11ce",
   "metadata": {},
   "outputs": [
    {
     "data": {
      "application/vnd.jupyter.widget-view+json": {
       "model_id": "66cf7e7c27084cb2af1a1cc61fbaa520",
       "version_major": 2,
       "version_minor": 0
      },
      "text/plain": [
       "Epoch:   0%|          | 0/10 [00:00<?, ?it/s]"
      ]
     },
     "metadata": {},
     "output_type": "display_data"
    },
    {
     "data": {
      "application/vnd.jupyter.widget-view+json": {
       "model_id": "e820153f09294f938793ad4e521bb3d2",
       "version_major": 2,
       "version_minor": 0
      },
      "text/plain": [
       "Iteration:   0%|          | 0/4962 [00:00<?, ?it/s]"
      ]
     },
     "metadata": {},
     "output_type": "display_data"
    },
    {
     "ename": "KeyboardInterrupt",
     "evalue": "",
     "output_type": "error",
     "traceback": [
      "\u001b[1;31m---------------------------------------------------------------------------\u001b[0m",
      "\u001b[1;31mKeyboardInterrupt\u001b[0m                         Traceback (most recent call last)",
      "Cell \u001b[1;32mIn[14], line 15\u001b[0m\n\u001b[0;32m     12\u001b[0m train_dataloader \u001b[38;5;241m=\u001b[39m DataLoader(enzyme_train_data, batch_size\u001b[38;5;241m=\u001b[39m\u001b[38;5;241m16\u001b[39m)\n\u001b[0;32m     13\u001b[0m train_loss \u001b[38;5;241m=\u001b[39m losses\u001b[38;5;241m.\u001b[39mContrastiveLoss(model\u001b[38;5;241m=\u001b[39menzyme_model)\n\u001b[1;32m---> 15\u001b[0m \u001b[43menzyme_model\u001b[49m\u001b[38;5;241;43m.\u001b[39;49m\u001b[43mfit\u001b[49m\u001b[43m(\u001b[49m\u001b[43m[\u001b[49m\u001b[43m(\u001b[49m\u001b[43mtrain_dataloader\u001b[49m\u001b[43m,\u001b[49m\u001b[43m \u001b[49m\u001b[43mtrain_loss\u001b[49m\u001b[43m)\u001b[49m\u001b[43m]\u001b[49m\u001b[43m,\u001b[49m\u001b[43mepochs\u001b[49m\u001b[38;5;241;43m=\u001b[39;49m\u001b[38;5;241;43m10\u001b[39;49m\u001b[43m)\u001b[49m\n\u001b[0;32m     16\u001b[0m enzyme_model\u001b[38;5;241m.\u001b[39msave(\u001b[38;5;124m\"\u001b[39m\u001b[38;5;124menzyme_model\u001b[39m\u001b[38;5;124m\"\u001b[39m)\n",
      "File \u001b[1;32mc:\\Users\\adamm\\AppData\\Local\\Programs\\Python\\Python38\\lib\\site-packages\\sentence_transformers\\SentenceTransformer.py:1082\u001b[0m, in \u001b[0;36mSentenceTransformer.fit\u001b[1;34m(self, train_objectives, evaluator, epochs, steps_per_epoch, scheduler, warmup_steps, optimizer_class, optimizer_params, weight_decay, evaluation_steps, output_path, save_best_model, max_grad_norm, use_amp, callback, show_progress_bar, checkpoint_path, checkpoint_save_steps, checkpoint_save_total_limit)\u001b[0m\n\u001b[0;32m   1079\u001b[0m     data \u001b[38;5;241m=\u001b[39m \u001b[38;5;28mnext\u001b[39m(data_iterator)\n\u001b[0;32m   1081\u001b[0m features, labels \u001b[38;5;241m=\u001b[39m data\n\u001b[1;32m-> 1082\u001b[0m labels \u001b[38;5;241m=\u001b[39m \u001b[43mlabels\u001b[49m\u001b[38;5;241;43m.\u001b[39;49m\u001b[43mto\u001b[49m\u001b[43m(\u001b[49m\u001b[38;5;28;43mself\u001b[39;49m\u001b[38;5;241;43m.\u001b[39;49m\u001b[43mdevice\u001b[49m\u001b[43m)\u001b[49m\n\u001b[0;32m   1083\u001b[0m features \u001b[38;5;241m=\u001b[39m \u001b[38;5;28mlist\u001b[39m(\u001b[38;5;28mmap\u001b[39m(\u001b[38;5;28;01mlambda\u001b[39;00m batch: batch_to_device(batch, \u001b[38;5;28mself\u001b[39m\u001b[38;5;241m.\u001b[39mdevice), features))\n\u001b[0;32m   1085\u001b[0m \u001b[38;5;28;01mif\u001b[39;00m use_amp:\n",
      "\u001b[1;31mKeyboardInterrupt\u001b[0m: "
     ]
    }
   ],
   "source": [
    "torch.cuda.empty_cache()\n",
    "\n",
    "word_embedding_model = models.Transformer(\"bert-base-uncased\", max_seq_length=128)\n",
    "pooling_model = models.Pooling(word_embedding_model.get_word_embedding_dimension())\n",
    "dense_model = models.Dense(\n",
    "    in_features=pooling_model.get_sentence_embedding_dimension(),\n",
    "    out_features=64,\n",
    "    activation_function=nn.Tanh(),\n",
    ")\n",
    "\n",
    "enzyme_model = SentenceTransformer(modules=[word_embedding_model, pooling_model, dense_model])\n",
    "train_dataloader = DataLoader(enzyme_train_data, batch_size=16)\n",
    "train_loss = losses.ContrastiveLoss(model=enzyme_model)\n",
    "\n",
    "enzyme_model.fit([(train_dataloader, train_loss)],epochs=10)\n",
    "enzyme_model.save(\"enzyme_model\")"
   ]
  },
  {
   "cell_type": "code",
   "execution_count": 91,
   "id": "e3a07098",
   "metadata": {},
   "outputs": [
    {
     "name": "stderr",
     "output_type": "stream",
     "text": [
      "100%|██████████| 19847/19847 [03:50<00:00, 86.19it/s]\n"
     ]
    }
   ],
   "source": [
    "enzyme_model = SentenceTransformer(\"enzyme_model\")\n",
    "enzyme_texts = [example.texts for example in enzyme_test_data]\n",
    "enzyme_labels = [example.label for example in enzyme_test_data]\n",
    "enzyme_encodings = [enzyme_model.encode(text, convert_to_numpy=True, convert_to_tensor=False) for text in tqdm(enzyme_texts)]"
   ]
  },
  {
   "cell_type": "code",
   "execution_count": 127,
   "id": "fb00d022",
   "metadata": {},
   "outputs": [
    {
     "name": "stdout",
     "output_type": "stream",
     "text": [
      "Matthews Correlation Coefficient: 0.5469137315839356\n",
      "              precision    recall  f1-score   support\n",
      "\n",
      "           0       0.88      0.79      0.83     13216\n",
      "           1       0.65      0.78      0.71      6631\n",
      "\n",
      "    accuracy                           0.78     19847\n",
      "   macro avg       0.76      0.78      0.77     19847\n",
      "weighted avg       0.80      0.78      0.79     19847\n",
      "\n"
     ]
    }
   ],
   "source": [
    "enzyme_predictions = [1 if np.dot(e[0], e[1]) / (norm(e[0]) * norm(e[1])) > 0.65 else 0 for e in enzyme_encodings]\n",
    "\n",
    "enzyme_matthews = matthews_corrcoef(enzyme_labels, enzyme_predictions)\n",
    "print(\"Matthews Correlation Coefficient:\", enzyme_matthews)\n",
    "print(classification_report(enzyme_labels, enzyme_predictions))"
   ]
  },
  {
   "cell_type": "code",
   "execution_count": 33,
   "id": "4e23bb26",
   "metadata": {},
   "outputs": [],
   "source": [
    "split = int(len(data['PATH']) * 0.8)\n",
    "path_train_data = data['PATH'][:split]\n",
    "path_test_data = data['PATH'][split:]"
   ]
  },
  {
   "cell_type": "code",
   "execution_count": 9,
   "id": "71af94b2",
   "metadata": {},
   "outputs": [
    {
     "data": {
      "application/vnd.jupyter.widget-view+json": {
       "model_id": "25b6a60789ae4df0803f78c0a07e0966",
       "version_major": 2,
       "version_minor": 0
      },
      "text/plain": [
       "Epoch:   0%|          | 0/10 [00:00<?, ?it/s]"
      ]
     },
     "metadata": {},
     "output_type": "display_data"
    },
    {
     "data": {
      "application/vnd.jupyter.widget-view+json": {
       "model_id": "1b6baf8d4b744e35b6d00a163933b3ee",
       "version_major": 2,
       "version_minor": 0
      },
      "text/plain": [
       "Iteration:   0%|          | 0/9924 [00:00<?, ?it/s]"
      ]
     },
     "metadata": {},
     "output_type": "display_data"
    },
    {
     "data": {
      "application/vnd.jupyter.widget-view+json": {
       "model_id": "c41f0aec006540b295efdf99e9f811e9",
       "version_major": 2,
       "version_minor": 0
      },
      "text/plain": [
       "Iteration:   0%|          | 0/9924 [00:00<?, ?it/s]"
      ]
     },
     "metadata": {},
     "output_type": "display_data"
    },
    {
     "data": {
      "application/vnd.jupyter.widget-view+json": {
       "model_id": "9c5685cd50cf4cbab855d84104fdb6a0",
       "version_major": 2,
       "version_minor": 0
      },
      "text/plain": [
       "Iteration:   0%|          | 0/9924 [00:00<?, ?it/s]"
      ]
     },
     "metadata": {},
     "output_type": "display_data"
    },
    {
     "data": {
      "application/vnd.jupyter.widget-view+json": {
       "model_id": "8f8b791995414c03a5eec80504512b7c",
       "version_major": 2,
       "version_minor": 0
      },
      "text/plain": [
       "Iteration:   0%|          | 0/9924 [00:00<?, ?it/s]"
      ]
     },
     "metadata": {},
     "output_type": "display_data"
    },
    {
     "data": {
      "application/vnd.jupyter.widget-view+json": {
       "model_id": "1d240c073a8446b4b34b45a1bf1794da",
       "version_major": 2,
       "version_minor": 0
      },
      "text/plain": [
       "Iteration:   0%|          | 0/9924 [00:00<?, ?it/s]"
      ]
     },
     "metadata": {},
     "output_type": "display_data"
    },
    {
     "data": {
      "application/vnd.jupyter.widget-view+json": {
       "model_id": "c9debbe506c64306ad025ed018ce7515",
       "version_major": 2,
       "version_minor": 0
      },
      "text/plain": [
       "Iteration:   0%|          | 0/9924 [00:00<?, ?it/s]"
      ]
     },
     "metadata": {},
     "output_type": "display_data"
    },
    {
     "data": {
      "application/vnd.jupyter.widget-view+json": {
       "model_id": "c852065f1697499986b4aef3c9d7ae01",
       "version_major": 2,
       "version_minor": 0
      },
      "text/plain": [
       "Iteration:   0%|          | 0/9924 [00:00<?, ?it/s]"
      ]
     },
     "metadata": {},
     "output_type": "display_data"
    },
    {
     "data": {
      "application/vnd.jupyter.widget-view+json": {
       "model_id": "91e6e7f9ad2e416aa527ed658a4c1fa5",
       "version_major": 2,
       "version_minor": 0
      },
      "text/plain": [
       "Iteration:   0%|          | 0/9924 [00:00<?, ?it/s]"
      ]
     },
     "metadata": {},
     "output_type": "display_data"
    },
    {
     "data": {
      "application/vnd.jupyter.widget-view+json": {
       "model_id": "677281e3087a4e46ab046849ac551970",
       "version_major": 2,
       "version_minor": 0
      },
      "text/plain": [
       "Iteration:   0%|          | 0/9924 [00:00<?, ?it/s]"
      ]
     },
     "metadata": {},
     "output_type": "display_data"
    },
    {
     "data": {
      "application/vnd.jupyter.widget-view+json": {
       "model_id": "06204ba65ea84980b81de7028f6eff69",
       "version_major": 2,
       "version_minor": 0
      },
      "text/plain": [
       "Iteration:   0%|          | 0/9924 [00:00<?, ?it/s]"
      ]
     },
     "metadata": {},
     "output_type": "display_data"
    }
   ],
   "source": [
    "torch.cuda.empty_cache()\n",
    "\n",
    "word_embedding_model = models.Transformer(\"bert-base-uncased\", max_seq_length=128)\n",
    "pooling_model = models.Pooling(word_embedding_model.get_word_embedding_dimension())\n",
    "dense_model = models.Dense(\n",
    "    in_features=pooling_model.get_sentence_embedding_dimension(),\n",
    "    out_features=64,\n",
    "    activation_function=nn.Tanh(),\n",
    ")\n",
    "\n",
    "path_model = SentenceTransformer(modules=[word_embedding_model, pooling_model, dense_model])\n",
    "train_dataloader = DataLoader(path_train_data, batch_size=16)\n",
    "train_loss = losses.ContrastiveLoss(model=path_model)\n",
    "\n",
    "path_model.fit([(train_dataloader, train_loss)],epochs=10)\n",
    "path_model.save(\"path_model\")"
   ]
  },
  {
   "cell_type": "code",
   "execution_count": 34,
   "id": "0d51d3aa",
   "metadata": {},
   "outputs": [
    {
     "name": "stderr",
     "output_type": "stream",
     "text": [
      "100%|██████████| 19847/19847 [03:41<00:00, 89.60it/s]\n"
     ]
    }
   ],
   "source": [
    "path_model = SentenceTransformer(\"path_model\")\n",
    "path_texts = [example.texts for example in path_test_data]\n",
    "path_labels = [example.label for example in path_test_data]\n",
    "path_encodings = [path_model.encode(text, convert_to_numpy=True, convert_to_tensor=False) for text in tqdm(path_texts)]"
   ]
  },
  {
   "cell_type": "code",
   "execution_count": 39,
   "id": "fc34d7f3",
   "metadata": {},
   "outputs": [
    {
     "name": "stdout",
     "output_type": "stream",
     "text": [
      "Matthews Correlation Coefficient: 0.6354708024774931\n",
      "              precision    recall  f1-score   support\n",
      "\n",
      "           0       0.87      0.89      0.88     13216\n",
      "           1       0.78      0.73      0.75      6631\n",
      "\n",
      "    accuracy                           0.84     19847\n",
      "   macro avg       0.82      0.81      0.82     19847\n",
      "weighted avg       0.84      0.84      0.84     19847\n",
      "\n"
     ]
    }
   ],
   "source": [
    "path_predictions = [1 if np.dot(e[0], e[1]) / (norm(e[0]) * norm(e[1])) > 0.65 else 0 for e in path_encodings]\n",
    "\n",
    "path_matthews = matthews_corrcoef(path_labels, path_predictions)\n",
    "print(\"Matthews Correlation Coefficient:\", path_matthews)\n",
    "print(classification_report(path_labels, path_predictions))"
   ]
  },
  {
   "cell_type": "code",
   "execution_count": 40,
   "id": "8a2b91a0",
   "metadata": {},
   "outputs": [],
   "source": [
    "split = int(len(data['SIDE_EFFECTS']) * 0.8)\n",
    "se_train_data = data['SIDE_EFFECTS'][:split]\n",
    "se_test_data = data['SIDE_EFFECTS'][split:]"
   ]
  },
  {
   "cell_type": "code",
   "execution_count": 10,
   "id": "e23d52c1",
   "metadata": {},
   "outputs": [
    {
     "data": {
      "application/vnd.jupyter.widget-view+json": {
       "model_id": "3e895bda6be04b1fb6066803df4f0640",
       "version_major": 2,
       "version_minor": 0
      },
      "text/plain": [
       "Epoch:   0%|          | 0/10 [00:00<?, ?it/s]"
      ]
     },
     "metadata": {},
     "output_type": "display_data"
    },
    {
     "data": {
      "application/vnd.jupyter.widget-view+json": {
       "model_id": "14be9bb417da43af8f1ffc2ae9ce8fd0",
       "version_major": 2,
       "version_minor": 0
      },
      "text/plain": [
       "Iteration:   0%|          | 0/4962 [00:00<?, ?it/s]"
      ]
     },
     "metadata": {},
     "output_type": "display_data"
    },
    {
     "data": {
      "application/vnd.jupyter.widget-view+json": {
       "model_id": "1e765a04dc5b4e1da5a7ca86c5f3b1f8",
       "version_major": 2,
       "version_minor": 0
      },
      "text/plain": [
       "Iteration:   0%|          | 0/4962 [00:00<?, ?it/s]"
      ]
     },
     "metadata": {},
     "output_type": "display_data"
    },
    {
     "data": {
      "application/vnd.jupyter.widget-view+json": {
       "model_id": "144d210ccef9438aa29102dc8b8f0824",
       "version_major": 2,
       "version_minor": 0
      },
      "text/plain": [
       "Iteration:   0%|          | 0/4962 [00:00<?, ?it/s]"
      ]
     },
     "metadata": {},
     "output_type": "display_data"
    },
    {
     "data": {
      "application/vnd.jupyter.widget-view+json": {
       "model_id": "ba87449fc4424f4e9fa3ebe4f5194009",
       "version_major": 2,
       "version_minor": 0
      },
      "text/plain": [
       "Iteration:   0%|          | 0/4962 [00:00<?, ?it/s]"
      ]
     },
     "metadata": {},
     "output_type": "display_data"
    },
    {
     "data": {
      "application/vnd.jupyter.widget-view+json": {
       "model_id": "dd90f13e43d6433e915625f5481e896b",
       "version_major": 2,
       "version_minor": 0
      },
      "text/plain": [
       "Iteration:   0%|          | 0/4962 [00:00<?, ?it/s]"
      ]
     },
     "metadata": {},
     "output_type": "display_data"
    },
    {
     "data": {
      "application/vnd.jupyter.widget-view+json": {
       "model_id": "0ea46ddcea9f47b59e17949d76d2d0e3",
       "version_major": 2,
       "version_minor": 0
      },
      "text/plain": [
       "Iteration:   0%|          | 0/4962 [00:00<?, ?it/s]"
      ]
     },
     "metadata": {},
     "output_type": "display_data"
    },
    {
     "data": {
      "application/vnd.jupyter.widget-view+json": {
       "model_id": "14e09da52612409180dded0e2110b252",
       "version_major": 2,
       "version_minor": 0
      },
      "text/plain": [
       "Iteration:   0%|          | 0/4962 [00:00<?, ?it/s]"
      ]
     },
     "metadata": {},
     "output_type": "display_data"
    },
    {
     "data": {
      "application/vnd.jupyter.widget-view+json": {
       "model_id": "aa1db5998b4349b285de372ea9155055",
       "version_major": 2,
       "version_minor": 0
      },
      "text/plain": [
       "Iteration:   0%|          | 0/4962 [00:00<?, ?it/s]"
      ]
     },
     "metadata": {},
     "output_type": "display_data"
    },
    {
     "data": {
      "application/vnd.jupyter.widget-view+json": {
       "model_id": "baf1f4b043df49438909d1ddb4f4f06b",
       "version_major": 2,
       "version_minor": 0
      },
      "text/plain": [
       "Iteration:   0%|          | 0/4962 [00:00<?, ?it/s]"
      ]
     },
     "metadata": {},
     "output_type": "display_data"
    },
    {
     "data": {
      "application/vnd.jupyter.widget-view+json": {
       "model_id": "ecf87b5ef75346a1850694ebcf3dac2a",
       "version_major": 2,
       "version_minor": 0
      },
      "text/plain": [
       "Iteration:   0%|          | 0/4962 [00:00<?, ?it/s]"
      ]
     },
     "metadata": {},
     "output_type": "display_data"
    }
   ],
   "source": [
    "torch.cuda.empty_cache()\n",
    "\n",
    "word_embedding_model = models.Transformer(\"bert-base-uncased\", max_seq_length=256)\n",
    "pooling_model = models.Pooling(word_embedding_model.get_word_embedding_dimension())\n",
    "dense_model = models.Dense(\n",
    "    in_features=pooling_model.get_sentence_embedding_dimension(),\n",
    "    out_features=64,\n",
    "    activation_function=nn.Tanh(),\n",
    ")\n",
    "\n",
    "se_model = SentenceTransformer(modules=[word_embedding_model, pooling_model, dense_model])\n",
    "train_dataloader = DataLoader(se_train_data, batch_size=16)\n",
    "train_loss = losses.ContrastiveLoss(model=se_model)\n",
    "\n",
    "se_model.fit([(train_dataloader, train_loss)],epochs=10)\n",
    "se_model.save(\"se_model\")"
   ]
  },
  {
   "cell_type": "code",
   "execution_count": 41,
   "id": "f9d6c66e",
   "metadata": {},
   "outputs": [
    {
     "name": "stderr",
     "output_type": "stream",
     "text": [
      "100%|██████████| 19847/19847 [04:38<00:00, 71.20it/s]\n"
     ]
    }
   ],
   "source": [
    "se_model = SentenceTransformer(\"se_model\")\n",
    "se_texts = [example.texts for example in se_test_data]\n",
    "se_labels = [example.label for example in se_test_data]\n",
    "se_encodings = [se_model.encode(text, convert_to_numpy=True, convert_to_tensor=False) for text in tqdm(se_texts)]"
   ]
  },
  {
   "cell_type": "code",
   "execution_count": 45,
   "id": "4930c2d9",
   "metadata": {},
   "outputs": [
    {
     "name": "stdout",
     "output_type": "stream",
     "text": [
      "Matthews Correlation Coefficient: 0.7843927384808446\n",
      "              precision    recall  f1-score   support\n",
      "\n",
      "           0       0.94      0.90      0.92     13216\n",
      "           1       0.82      0.89      0.86      6631\n",
      "\n",
      "    accuracy                           0.90     19847\n",
      "   macro avg       0.88      0.90      0.89     19847\n",
      "weighted avg       0.90      0.90      0.90     19847\n",
      "\n"
     ]
    }
   ],
   "source": [
    "se_predictions = [1 if np.dot(e[0], e[1]) / (norm(e[0]) * norm(e[1])) > 0.65 else 0 for e in se_encodings]\n",
    "\n",
    "se_matthews = matthews_corrcoef(se_labels, se_predictions)\n",
    "print(\"Matthews Correlation Coefficient:\", se_matthews)\n",
    "print(classification_report(se_labels, se_predictions))"
   ]
  },
  {
   "cell_type": "code",
   "execution_count": 4,
   "id": "acf3002e",
   "metadata": {},
   "outputs": [],
   "source": [
    "split = int(len(data['INDICATIONS']) * 0.8)\n",
    "indications_train_data = data['INDICATIONS'][:split]\n",
    "indications_test_data = data['INDICATIONS'][split:]"
   ]
  },
  {
   "cell_type": "code",
   "execution_count": 5,
   "id": "5b6b8a2a",
   "metadata": {},
   "outputs": [
    {
     "data": {
      "application/vnd.jupyter.widget-view+json": {
       "model_id": "184766e3ebd74877b8568ee5e528e5fa",
       "version_major": 2,
       "version_minor": 0
      },
      "text/plain": [
       "Epoch:   0%|          | 0/10 [00:00<?, ?it/s]"
      ]
     },
     "metadata": {},
     "output_type": "display_data"
    },
    {
     "data": {
      "application/vnd.jupyter.widget-view+json": {
       "model_id": "2ccf5c7a121d425caa79503cbe2657f7",
       "version_major": 2,
       "version_minor": 0
      },
      "text/plain": [
       "Iteration:   0%|          | 0/4962 [00:00<?, ?it/s]"
      ]
     },
     "metadata": {},
     "output_type": "display_data"
    },
    {
     "data": {
      "application/vnd.jupyter.widget-view+json": {
       "model_id": "2cbab7a347544e31b6aaba2b0a8ca588",
       "version_major": 2,
       "version_minor": 0
      },
      "text/plain": [
       "Iteration:   0%|          | 0/4962 [00:00<?, ?it/s]"
      ]
     },
     "metadata": {},
     "output_type": "display_data"
    },
    {
     "data": {
      "application/vnd.jupyter.widget-view+json": {
       "model_id": "f4b3430328f8401a8f646a315ff29b6e",
       "version_major": 2,
       "version_minor": 0
      },
      "text/plain": [
       "Iteration:   0%|          | 0/4962 [00:00<?, ?it/s]"
      ]
     },
     "metadata": {},
     "output_type": "display_data"
    },
    {
     "data": {
      "application/vnd.jupyter.widget-view+json": {
       "model_id": "02ac75185a1c4c5da07d85a8765d8102",
       "version_major": 2,
       "version_minor": 0
      },
      "text/plain": [
       "Iteration:   0%|          | 0/4962 [00:00<?, ?it/s]"
      ]
     },
     "metadata": {},
     "output_type": "display_data"
    },
    {
     "data": {
      "application/vnd.jupyter.widget-view+json": {
       "model_id": "322def137e7342fbbc79df69471447bd",
       "version_major": 2,
       "version_minor": 0
      },
      "text/plain": [
       "Iteration:   0%|          | 0/4962 [00:00<?, ?it/s]"
      ]
     },
     "metadata": {},
     "output_type": "display_data"
    },
    {
     "data": {
      "application/vnd.jupyter.widget-view+json": {
       "model_id": "4f77bfa0d40e4654b38855b35f60ce4a",
       "version_major": 2,
       "version_minor": 0
      },
      "text/plain": [
       "Iteration:   0%|          | 0/4962 [00:00<?, ?it/s]"
      ]
     },
     "metadata": {},
     "output_type": "display_data"
    },
    {
     "data": {
      "application/vnd.jupyter.widget-view+json": {
       "model_id": "65810461057049e19cd5e4eee83ef83d",
       "version_major": 2,
       "version_minor": 0
      },
      "text/plain": [
       "Iteration:   0%|          | 0/4962 [00:00<?, ?it/s]"
      ]
     },
     "metadata": {},
     "output_type": "display_data"
    },
    {
     "data": {
      "application/vnd.jupyter.widget-view+json": {
       "model_id": "ea1007c0ecce41e5b6a0bdf58f8e9aee",
       "version_major": 2,
       "version_minor": 0
      },
      "text/plain": [
       "Iteration:   0%|          | 0/4962 [00:00<?, ?it/s]"
      ]
     },
     "metadata": {},
     "output_type": "display_data"
    },
    {
     "data": {
      "application/vnd.jupyter.widget-view+json": {
       "model_id": "e3ab6ae8fa4946cd83dc4bc4056c0cbe",
       "version_major": 2,
       "version_minor": 0
      },
      "text/plain": [
       "Iteration:   0%|          | 0/4962 [00:00<?, ?it/s]"
      ]
     },
     "metadata": {},
     "output_type": "display_data"
    },
    {
     "data": {
      "application/vnd.jupyter.widget-view+json": {
       "model_id": "a703251bdbcb4c3e962af24fbb09a178",
       "version_major": 2,
       "version_minor": 0
      },
      "text/plain": [
       "Iteration:   0%|          | 0/4962 [00:00<?, ?it/s]"
      ]
     },
     "metadata": {},
     "output_type": "display_data"
    }
   ],
   "source": [
    "torch.cuda.empty_cache()\n",
    "\n",
    "word_embedding_model = models.Transformer(\"bert-base-uncased\", max_seq_length=128)\n",
    "pooling_model = models.Pooling(word_embedding_model.get_word_embedding_dimension())\n",
    "dense_model = models.Dense(\n",
    "    in_features=pooling_model.get_sentence_embedding_dimension(),\n",
    "    out_features=64,\n",
    "    activation_function=nn.Tanh(),\n",
    ")\n",
    "\n",
    "indications_model = SentenceTransformer(modules=[word_embedding_model, pooling_model, dense_model])\n",
    "train_dataloader = DataLoader(indications_train_data, batch_size=16)\n",
    "train_loss = losses.ContrastiveLoss(model=indications_model)\n",
    "\n",
    "indications_model.fit([(train_dataloader, train_loss)],epochs=10)\n",
    "indications_model.save(\"indications_model\")"
   ]
  },
  {
   "cell_type": "code",
   "execution_count": 48,
   "id": "0a89b9bf",
   "metadata": {},
   "outputs": [
    {
     "name": "stderr",
     "output_type": "stream",
     "text": [
      "100%|██████████| 19847/19847 [03:39<00:00, 90.28it/s] \n"
     ]
    }
   ],
   "source": [
    "indications_model = SentenceTransformer(\"indications_model\")\n",
    "indications_texts = [example.texts for example in indications_test_data]\n",
    "indications_labels = [example.label for example in indications_test_data]\n",
    "indications_encodings = [indications_model.encode(text, convert_to_numpy=True, convert_to_tensor=False) for text in tqdm(indications_texts)]"
   ]
  },
  {
   "cell_type": "code",
   "execution_count": 52,
   "id": "84479034",
   "metadata": {},
   "outputs": [
    {
     "name": "stdout",
     "output_type": "stream",
     "text": [
      "Matthews Correlation Coefficient: 0.7736557351589848\n",
      "              precision    recall  f1-score   support\n",
      "\n",
      "           0       0.95      0.89      0.92     13216\n",
      "           1       0.81      0.90      0.85      6631\n",
      "\n",
      "    accuracy                           0.90     19847\n",
      "   macro avg       0.88      0.90      0.89     19847\n",
      "weighted avg       0.90      0.90      0.90     19847\n",
      "\n"
     ]
    }
   ],
   "source": [
    "indications_predictions = [1 if np.dot(e[0], e[1]) / (norm(e[0]) * norm(e[1])) > 0.65 else 0 for e in indications_encodings]\n",
    "\n",
    "indications_matthews = matthews_corrcoef(indications_labels, indications_predictions)\n",
    "print(\"Matthews Correlation Coefficient:\", indications_matthews)\n",
    "print(classification_report(indications_labels, indications_predictions))"
   ]
  },
  {
   "cell_type": "code",
   "execution_count": 65,
   "id": "1222be56",
   "metadata": {},
   "outputs": [
    {
     "name": "stderr",
     "output_type": "stream",
     "text": [
      "100%|██████████| 19847/19847 [04:40<00:00, 70.84it/s]\n",
      "100%|██████████| 19847/19847 [03:46<00:00, 87.67it/s]\n",
      "100%|██████████| 19847/19847 [03:57<00:00, 83.43it/s]\n",
      "100%|██████████| 19847/19847 [03:50<00:00, 86.03it/s]\n",
      "100%|██████████| 19847/19847 [04:59<00:00, 66.21it/s]\n",
      "100%|██████████| 19847/19847 [03:43<00:00, 88.85it/s]\n"
     ]
    }
   ],
   "source": [
    "encodings = []\n",
    "for model_path, test_data in [(\"structure_model\", structure_test_data), (\"target_model\", target_test_data), \n",
    "                    (\"enzyme_model\", enzyme_test_data), (\"path_model\", path_test_data),\n",
    "                    (\"se_model\", se_test_data), (\"indications_model\", indications_test_data)]:\n",
    "    model = SentenceTransformer(model_path)\n",
    "    texts = [example.texts for example in test_data]\n",
    "    encodings.append([model.encode(text, convert_to_numpy=True, convert_to_tensor=False) for text in tqdm(texts)])"
   ]
  },
  {
   "cell_type": "code",
   "execution_count": 93,
   "id": "7d057607",
   "metadata": {},
   "outputs": [],
   "source": [
    "concatenated_encodings = [[np.array([]), np.array([])] for _ in encodings[0]]\n",
    "for model_result in encodings:\n",
    "    for i in range(len(model_result)):\n",
    "        concatenated_encodings[i][0] = np.append(concatenated_encodings[i][0], model_result[i][0])\n",
    "        concatenated_encodings[i][1] = np.append(concatenated_encodings[i][1], model_result[i][1])"
   ]
  },
  {
   "cell_type": "code",
   "execution_count": 128,
   "id": "ae9be508",
   "metadata": {},
   "outputs": [
    {
     "name": "stdout",
     "output_type": "stream",
     "text": [
      "Matthews Correlation Coefficient: 0.7873705850191058\n",
      "              precision    recall  f1-score   support\n",
      "\n",
      "           0       0.95      0.90      0.92     13216\n",
      "           1       0.82      0.90      0.86      6631\n",
      "\n",
      "    accuracy                           0.90     19847\n",
      "   macro avg       0.89      0.90      0.89     19847\n",
      "weighted avg       0.91      0.90      0.90     19847\n",
      "\n"
     ]
    }
   ],
   "source": [
    "predictions = [1 if np.dot(e[0], e[1]) / (norm(e[0]) * norm(e[1])) > 0.65 else 0 for e in concatenated_encodings]\n",
    "labels = [example.label for example in structure_test_data]\n",
    "\n",
    "matthews = matthews_corrcoef(labels, predictions)\n",
    "print(\"Matthews Correlation Coefficient:\", matthews)\n",
    "print(classification_report(labels, predictions))"
   ]
  },
  {
   "cell_type": "code",
   "execution_count": 122,
   "id": "d0c0ab0c",
   "metadata": {},
   "outputs": [
    {
     "data": {
      "text/html": [
       "<div>\n",
       "<style scoped>\n",
       "    .dataframe tbody tr th:only-of-type {\n",
       "        vertical-align: middle;\n",
       "    }\n",
       "\n",
       "    .dataframe tbody tr th {\n",
       "        vertical-align: top;\n",
       "    }\n",
       "\n",
       "    .dataframe thead th {\n",
       "        text-align: right;\n",
       "    }\n",
       "</style>\n",
       "<table border=\"1\" class=\"dataframe\">\n",
       "  <thead>\n",
       "    <tr style=\"text-align: right;\">\n",
       "      <th></th>\n",
       "      <th>DRUG_ID1</th>\n",
       "      <th>STRUCTURE1</th>\n",
       "      <th>TARGET1</th>\n",
       "      <th>ENZYME1</th>\n",
       "      <th>PATH1</th>\n",
       "      <th>SIDE_EFFECTS1</th>\n",
       "      <th>INDICATIONS1</th>\n",
       "      <th>OFFSIDE_EFFECT1</th>\n",
       "      <th>DRUG_ID2</th>\n",
       "      <th>STRUCTURE2</th>\n",
       "      <th>TARGET2</th>\n",
       "      <th>ENZYME2</th>\n",
       "      <th>PATH2</th>\n",
       "      <th>SIDE_EFFECTS2</th>\n",
       "      <th>INDICATIONS2</th>\n",
       "      <th>OFFSIDE_EFFECT2</th>\n",
       "      <th>INTERACTION</th>\n",
       "    </tr>\n",
       "  </thead>\n",
       "  <tbody>\n",
       "    <tr>\n",
       "      <th>79763</th>\n",
       "      <td>DB00322</td>\n",
       "      <td>[9, 10, 11, 14, 15, 18, 19, 20, 23, 143, 146, ...</td>\n",
       "      <td>[P04818]</td>\n",
       "      <td>[P19971, P11712]</td>\n",
       "      <td>[hsa00240, hsa00670, hsa01100, hsa01523]</td>\n",
       "      <td>[C0000737, C0000833, C0001824, C0002170, C0002...</td>\n",
       "      <td>[C0001418]</td>\n",
       "      <td>[10065553, 10023126, 10043554, 10016288, 10029...</td>\n",
       "      <td>DB01101</td>\n",
       "      <td>[0, 9, 10, 11, 14, 15, 18, 19, 20, 23, 143, 14...</td>\n",
       "      <td>[P04818]</td>\n",
       "      <td>[P19971, P23141, Q12882, P32320, P11712]</td>\n",
       "      <td>[hsa00240, hsa00670, hsa01100, hsa01523]</td>\n",
       "      <td>[C0000731, C0000737, C0000768, C0001824, C0002...</td>\n",
       "      <td>[C0006142, C0006826, C0009402, C0020433, C0027...</td>\n",
       "      <td>[10022972, 10034695, 10002034, 10002064, 10052...</td>\n",
       "      <td>0</td>\n",
       "    </tr>\n",
       "    <tr>\n",
       "      <th>85521</th>\n",
       "      <td>DB00544</td>\n",
       "      <td>[9, 10, 14, 15, 18, 19, 23, 178, 183, 184, 283...</td>\n",
       "      <td>[P04818]</td>\n",
       "      <td>[P05177, P19971, P11712, Q12882, Q16831, O9504...</td>\n",
       "      <td>[hsa00240, hsa00670, hsa01100, hsa01523]</td>\n",
       "      <td>[C0000768, C0000786, C0001824, C0002170, C0002...</td>\n",
       "      <td>[C0006079, C0006826, C0007097, C0007114, C0007...</td>\n",
       "      <td>[10022972, 10034695, 10002034, 10002064, 10002...</td>\n",
       "      <td>DB01101</td>\n",
       "      <td>[0, 9, 10, 11, 14, 15, 18, 19, 20, 23, 143, 14...</td>\n",
       "      <td>[P04818]</td>\n",
       "      <td>[P19971, P23141, Q12882, P32320, P11712]</td>\n",
       "      <td>[hsa00240, hsa00670, hsa01100, hsa01523]</td>\n",
       "      <td>[C0000731, C0000737, C0000768, C0001824, C0002...</td>\n",
       "      <td>[C0006142, C0006826, C0009402, C0020433, C0027...</td>\n",
       "      <td>[10022972, 10034695, 10002034, 10002064, 10052...</td>\n",
       "      <td>0</td>\n",
       "    </tr>\n",
       "    <tr>\n",
       "      <th>87088</th>\n",
       "      <td>DB00322</td>\n",
       "      <td>[9, 10, 11, 14, 15, 18, 19, 20, 23, 143, 146, ...</td>\n",
       "      <td>[P04818]</td>\n",
       "      <td>[P19971, P11712]</td>\n",
       "      <td>[hsa00240, hsa00670, hsa01100, hsa01523]</td>\n",
       "      <td>[C0000737, C0000833, C0001824, C0002170, C0002...</td>\n",
       "      <td>[C0001418]</td>\n",
       "      <td>[10065553, 10023126, 10043554, 10016288, 10029...</td>\n",
       "      <td>DB00544</td>\n",
       "      <td>[9, 10, 14, 15, 18, 19, 23, 178, 183, 184, 283...</td>\n",
       "      <td>[P04818]</td>\n",
       "      <td>[P05177, P19971, P11712, Q12882, Q16831, O9504...</td>\n",
       "      <td>[hsa00240, hsa00670, hsa01100, hsa01523]</td>\n",
       "      <td>[C0000768, C0000786, C0001824, C0002170, C0002...</td>\n",
       "      <td>[C0006079, C0006826, C0007097, C0007114, C0007...</td>\n",
       "      <td>[10022972, 10034695, 10002034, 10002064, 10002...</td>\n",
       "      <td>0</td>\n",
       "    </tr>\n",
       "    <tr>\n",
       "      <th>87800</th>\n",
       "      <td>DB00289</td>\n",
       "      <td>[9, 10, 11, 12, 14, 18, 178, 179, 185, 186, 25...</td>\n",
       "      <td>[P23975, P31645, Q01959]</td>\n",
       "      <td>[P10635, P33261, P08684]</td>\n",
       "      <td>[hsa04726, hsa04728, hsa05012, hsa05030, hsa05...</td>\n",
       "      <td>[C0000737, C0001807, C0003123, C0003467, C0003...</td>\n",
       "      <td>[C0004936, C0009421, C0011206, C0014544, C0015...</td>\n",
       "      <td>[10034695, 10002034, 10002065, 10052293, 10002...</td>\n",
       "      <td>DB01174</td>\n",
       "      <td>[9, 10, 11, 14, 15, 18, 19, 178, 179, 180, 181...</td>\n",
       "      <td>[P14867, P43681, P36544, P42262, Q13002]</td>\n",
       "      <td>[P33261, P11712, P20813, P10632, P08684, P0517...</td>\n",
       "      <td>[hsa04080, hsa04723, hsa04727, hsa04742, hsa05...</td>\n",
       "      <td>[C0000768, C0002888, C0002994, C0003578, C0004...</td>\n",
       "      <td>[C0003467, C0008354, C0008489, C0009952, C0013...</td>\n",
       "      <td>[10022972, 10034695, 10002034, 10002064, 10002...</td>\n",
       "      <td>0</td>\n",
       "    </tr>\n",
       "    <tr>\n",
       "      <th>90025</th>\n",
       "      <td>DB00530</td>\n",
       "      <td>[9, 10, 11, 12, 14, 15, 18, 19, 20, 178, 179, ...</td>\n",
       "      <td>[P00533, O75469]</td>\n",
       "      <td>[P08684, P20815, P05177, P04798, P10635, P1063...</td>\n",
       "      <td>[hsa01521, hsa01522, hsa04010, hsa04012, hsa04...</td>\n",
       "      <td>[C0000737, C0002170, C0002878, C0003123, C0003...</td>\n",
       "      <td>[C0006826, C0007131, C0027651, C0280100, C0346...</td>\n",
       "      <td>[10022972, 10034695, 10002034, 10002064, 10048...</td>\n",
       "      <td>DB06626</td>\n",
       "      <td>[9, 10, 11, 12, 14, 15, 16, 18, 33, 143, 145, ...</td>\n",
       "      <td>[P17948, P35968, P35916]</td>\n",
       "      <td>[P08684, P20815, P05177, P33261, P22309]</td>\n",
       "      <td>[hsa04014, hsa04015, hsa04060, hsa04066, hsa04...</td>\n",
       "      <td>[C0000737, C0002170, C0002871, C0003862, C0004...</td>\n",
       "      <td>[C0007134]</td>\n",
       "      <td>[10002034, 10058116, 10065553, 10033661, 10021...</td>\n",
       "      <td>0</td>\n",
       "    </tr>\n",
       "    <tr>\n",
       "      <th>80502</th>\n",
       "      <td>DB00530</td>\n",
       "      <td>[9, 10, 11, 12, 14, 15, 18, 19, 20, 178, 179, ...</td>\n",
       "      <td>[P00533, O75469]</td>\n",
       "      <td>[P08684, P20815, P05177, P04798, P10635, P1063...</td>\n",
       "      <td>[hsa01521, hsa01522, hsa04010, hsa04012, hsa04...</td>\n",
       "      <td>[C0000737, C0002170, C0002878, C0003123, C0003...</td>\n",
       "      <td>[C0006826, C0007131, C0027651, C0280100, C0346...</td>\n",
       "      <td>[10022972, 10034695, 10002034, 10002064, 10048...</td>\n",
       "      <td>DB08828</td>\n",
       "      <td>[9, 10, 11, 12, 14, 15, 18, 19, 33, 37, 38, 17...</td>\n",
       "      <td>[Q99835]</td>\n",
       "      <td>[P11712, P08684, P10632, P33261]</td>\n",
       "      <td>[hsa04340, hsa04360, hsa05200, hsa05205, hsa05...</td>\n",
       "      <td>[C0000737, C0002170, C0002453, C0003862, C0004...</td>\n",
       "      <td>[C0007117]</td>\n",
       "      <td>[10002034, 10065553, 10020578, 10023126, 10028...</td>\n",
       "      <td>0</td>\n",
       "    </tr>\n",
       "    <tr>\n",
       "      <th>91899</th>\n",
       "      <td>DB01196</td>\n",
       "      <td>[0, 9, 10, 11, 12, 14, 18, 19, 37, 38, 143, 14...</td>\n",
       "      <td>[Q92731, P03372, P11137, P78559]</td>\n",
       "      <td>[P08684]</td>\n",
       "      <td>[hsa01522, hsa04915, hsa04917, hsa05224, hsa01...</td>\n",
       "      <td>[C0000768, C0002170, C0003123, C0003467, C0008...</td>\n",
       "      <td>[C0006826, C0376358, C0600139]</td>\n",
       "      <td>[10002034, 10027538, 10065553, 10033661, 10014...</td>\n",
       "      <td>DB08827</td>\n",
       "      <td>[9, 10, 11, 12, 13, 14, 15, 18, 19, 23, 24, 25...</td>\n",
       "      <td>[P55157]</td>\n",
       "      <td>[P08684]</td>\n",
       "      <td>[hsa04975]</td>\n",
       "      <td>[C0000731, C0000737, C0001707, C0002871, C0002...</td>\n",
       "      <td>[C0020443, C0342881, C0549399]</td>\n",
       "      <td>[10021688, 10025197, 10041660, 10043071, 10003...</td>\n",
       "      <td>0</td>\n",
       "    </tr>\n",
       "    <tr>\n",
       "      <th>89704</th>\n",
       "      <td>DB00441</td>\n",
       "      <td>[9, 10, 11, 14, 15, 18, 19, 20, 23, 24, 143, 1...</td>\n",
       "      <td>[P23921, P04818, P30085]</td>\n",
       "      <td>[P32320, P27707]</td>\n",
       "      <td>[hsa00230, hsa00240, hsa00480, hsa01100, hsa00...</td>\n",
       "      <td>[C0000932, C0001824, C0002170, C0002871, C0003...</td>\n",
       "      <td>[C0001973, C0005684, C0006142, C0006826, C0007...</td>\n",
       "      <td>[10022972, 10034695, 10002034, 10002064, 10002...</td>\n",
       "      <td>DB06626</td>\n",
       "      <td>[9, 10, 11, 12, 14, 15, 16, 18, 33, 143, 145, ...</td>\n",
       "      <td>[P17948, P35968, P35916]</td>\n",
       "      <td>[P08684, P20815, P05177, P33261, P22309]</td>\n",
       "      <td>[hsa04014, hsa04015, hsa04060, hsa04066, hsa04...</td>\n",
       "      <td>[C0000737, C0002170, C0002871, C0003862, C0004...</td>\n",
       "      <td>[C0007134]</td>\n",
       "      <td>[10002034, 10058116, 10065553, 10033661, 10021...</td>\n",
       "      <td>0</td>\n",
       "    </tr>\n",
       "    <tr>\n",
       "      <th>89941</th>\n",
       "      <td>DB01110</td>\n",
       "      <td>[9, 10, 11, 12, 14, 15, 18, 37, 38, 39, 143, 1...</td>\n",
       "      <td>[P10613, P29474, P35228, Q12791, Q16558, Q9Y69...</td>\n",
       "      <td>[P11712, P10635, P08684, P15538, P11511, P0517...</td>\n",
       "      <td>[hsa00220, hsa00330, hsa01100, hsa04020, hsa04...</td>\n",
       "      <td>[C0000737, C0002792, C0002871, C0002994, C0003...</td>\n",
       "      <td>[C0006826, C0006840, C0006846, C0006849, C0006...</td>\n",
       "      <td>[10022972, 10002034, 10002065, 10068819, 10052...</td>\n",
       "      <td>DB08827</td>\n",
       "      <td>[9, 10, 11, 12, 13, 14, 15, 18, 19, 23, 24, 25...</td>\n",
       "      <td>[P55157]</td>\n",
       "      <td>[P08684]</td>\n",
       "      <td>[hsa04975]</td>\n",
       "      <td>[C0000731, C0000737, C0001707, C0002871, C0002...</td>\n",
       "      <td>[C0020443, C0342881, C0549399]</td>\n",
       "      <td>[10021688, 10025197, 10041660, 10043071, 10003...</td>\n",
       "      <td>0</td>\n",
       "    </tr>\n",
       "    <tr>\n",
       "      <th>93862</th>\n",
       "      <td>DB00283</td>\n",
       "      <td>[9, 10, 11, 12, 14, 18, 37, 143, 145, 146, 178...</td>\n",
       "      <td>[P35367]</td>\n",
       "      <td>[P10635, P08684]</td>\n",
       "      <td>[hsa04020, hsa04080, hsa04750]</td>\n",
       "      <td>[C0001824, C0002792, C0002878, C0003123, C0009...</td>\n",
       "      <td>[C0002994, C0033774, C0037383, C0042109, C0423...</td>\n",
       "      <td>[10022972, 10002034, 10049105, 10058116, 10002...</td>\n",
       "      <td>DB00648</td>\n",
       "      <td>[9, 10, 11, 37, 38, 39, 178, 179, 185, 186, 25...</td>\n",
       "      <td>[P15538, P10109]</td>\n",
       "      <td>[P08684]</td>\n",
       "      <td>[hsa00140, hsa01100]</td>\n",
       "      <td>[C0001623, C0001807, C0001925, C0002871, C0003...</td>\n",
       "      <td>[C0006826, C0206686, C1370740]</td>\n",
       "      <td>[10022972, 10002034, 10051779, 10053213, 10033...</td>\n",
       "      <td>0</td>\n",
       "    </tr>\n",
       "  </tbody>\n",
       "</table>\n",
       "</div>"
      ],
      "text/plain": [
       "      DRUG_ID1                                         STRUCTURE1  \\\n",
       "79763  DB00322  [9, 10, 11, 14, 15, 18, 19, 20, 23, 143, 146, ...   \n",
       "85521  DB00544  [9, 10, 14, 15, 18, 19, 23, 178, 183, 184, 283...   \n",
       "87088  DB00322  [9, 10, 11, 14, 15, 18, 19, 20, 23, 143, 146, ...   \n",
       "87800  DB00289  [9, 10, 11, 12, 14, 18, 178, 179, 185, 186, 25...   \n",
       "90025  DB00530  [9, 10, 11, 12, 14, 15, 18, 19, 20, 178, 179, ...   \n",
       "80502  DB00530  [9, 10, 11, 12, 14, 15, 18, 19, 20, 178, 179, ...   \n",
       "91899  DB01196  [0, 9, 10, 11, 12, 14, 18, 19, 37, 38, 143, 14...   \n",
       "89704  DB00441  [9, 10, 11, 14, 15, 18, 19, 20, 23, 24, 143, 1...   \n",
       "89941  DB01110  [9, 10, 11, 12, 14, 15, 18, 37, 38, 39, 143, 1...   \n",
       "93862  DB00283  [9, 10, 11, 12, 14, 18, 37, 143, 145, 146, 178...   \n",
       "\n",
       "                                                 TARGET1  \\\n",
       "79763                                           [P04818]   \n",
       "85521                                           [P04818]   \n",
       "87088                                           [P04818]   \n",
       "87800                           [P23975, P31645, Q01959]   \n",
       "90025                                   [P00533, O75469]   \n",
       "80502                                   [P00533, O75469]   \n",
       "91899                   [Q92731, P03372, P11137, P78559]   \n",
       "89704                           [P23921, P04818, P30085]   \n",
       "89941  [P10613, P29474, P35228, Q12791, Q16558, Q9Y69...   \n",
       "93862                                           [P35367]   \n",
       "\n",
       "                                                 ENZYME1  \\\n",
       "79763                                   [P19971, P11712]   \n",
       "85521  [P05177, P19971, P11712, Q12882, Q16831, O9504...   \n",
       "87088                                   [P19971, P11712]   \n",
       "87800                           [P10635, P33261, P08684]   \n",
       "90025  [P08684, P20815, P05177, P04798, P10635, P1063...   \n",
       "80502  [P08684, P20815, P05177, P04798, P10635, P1063...   \n",
       "91899                                           [P08684]   \n",
       "89704                                   [P32320, P27707]   \n",
       "89941  [P11712, P10635, P08684, P15538, P11511, P0517...   \n",
       "93862                                   [P10635, P08684]   \n",
       "\n",
       "                                                   PATH1  \\\n",
       "79763           [hsa00240, hsa00670, hsa01100, hsa01523]   \n",
       "85521           [hsa00240, hsa00670, hsa01100, hsa01523]   \n",
       "87088           [hsa00240, hsa00670, hsa01100, hsa01523]   \n",
       "87800  [hsa04726, hsa04728, hsa05012, hsa05030, hsa05...   \n",
       "90025  [hsa01521, hsa01522, hsa04010, hsa04012, hsa04...   \n",
       "80502  [hsa01521, hsa01522, hsa04010, hsa04012, hsa04...   \n",
       "91899  [hsa01522, hsa04915, hsa04917, hsa05224, hsa01...   \n",
       "89704  [hsa00230, hsa00240, hsa00480, hsa01100, hsa00...   \n",
       "89941  [hsa00220, hsa00330, hsa01100, hsa04020, hsa04...   \n",
       "93862                     [hsa04020, hsa04080, hsa04750]   \n",
       "\n",
       "                                           SIDE_EFFECTS1  \\\n",
       "79763  [C0000737, C0000833, C0001824, C0002170, C0002...   \n",
       "85521  [C0000768, C0000786, C0001824, C0002170, C0002...   \n",
       "87088  [C0000737, C0000833, C0001824, C0002170, C0002...   \n",
       "87800  [C0000737, C0001807, C0003123, C0003467, C0003...   \n",
       "90025  [C0000737, C0002170, C0002878, C0003123, C0003...   \n",
       "80502  [C0000737, C0002170, C0002878, C0003123, C0003...   \n",
       "91899  [C0000768, C0002170, C0003123, C0003467, C0008...   \n",
       "89704  [C0000932, C0001824, C0002170, C0002871, C0003...   \n",
       "89941  [C0000737, C0002792, C0002871, C0002994, C0003...   \n",
       "93862  [C0001824, C0002792, C0002878, C0003123, C0009...   \n",
       "\n",
       "                                            INDICATIONS1  \\\n",
       "79763                                         [C0001418]   \n",
       "85521  [C0006079, C0006826, C0007097, C0007114, C0007...   \n",
       "87088                                         [C0001418]   \n",
       "87800  [C0004936, C0009421, C0011206, C0014544, C0015...   \n",
       "90025  [C0006826, C0007131, C0027651, C0280100, C0346...   \n",
       "80502  [C0006826, C0007131, C0027651, C0280100, C0346...   \n",
       "91899                     [C0006826, C0376358, C0600139]   \n",
       "89704  [C0001973, C0005684, C0006142, C0006826, C0007...   \n",
       "89941  [C0006826, C0006840, C0006846, C0006849, C0006...   \n",
       "93862  [C0002994, C0033774, C0037383, C0042109, C0423...   \n",
       "\n",
       "                                         OFFSIDE_EFFECT1 DRUG_ID2  \\\n",
       "79763  [10065553, 10023126, 10043554, 10016288, 10029...  DB01101   \n",
       "85521  [10022972, 10034695, 10002034, 10002064, 10002...  DB01101   \n",
       "87088  [10065553, 10023126, 10043554, 10016288, 10029...  DB00544   \n",
       "87800  [10034695, 10002034, 10002065, 10052293, 10002...  DB01174   \n",
       "90025  [10022972, 10034695, 10002034, 10002064, 10048...  DB06626   \n",
       "80502  [10022972, 10034695, 10002034, 10002064, 10048...  DB08828   \n",
       "91899  [10002034, 10027538, 10065553, 10033661, 10014...  DB08827   \n",
       "89704  [10022972, 10034695, 10002034, 10002064, 10002...  DB06626   \n",
       "89941  [10022972, 10002034, 10002065, 10068819, 10052...  DB08827   \n",
       "93862  [10022972, 10002034, 10049105, 10058116, 10002...  DB00648   \n",
       "\n",
       "                                              STRUCTURE2  \\\n",
       "79763  [0, 9, 10, 11, 14, 15, 18, 19, 20, 23, 143, 14...   \n",
       "85521  [0, 9, 10, 11, 14, 15, 18, 19, 20, 23, 143, 14...   \n",
       "87088  [9, 10, 14, 15, 18, 19, 23, 178, 183, 184, 283...   \n",
       "87800  [9, 10, 11, 14, 15, 18, 19, 178, 179, 180, 181...   \n",
       "90025  [9, 10, 11, 12, 14, 15, 16, 18, 33, 143, 145, ...   \n",
       "80502  [9, 10, 11, 12, 14, 15, 18, 19, 33, 37, 38, 17...   \n",
       "91899  [9, 10, 11, 12, 13, 14, 15, 18, 19, 23, 24, 25...   \n",
       "89704  [9, 10, 11, 12, 14, 15, 16, 18, 33, 143, 145, ...   \n",
       "89941  [9, 10, 11, 12, 13, 14, 15, 18, 19, 23, 24, 25...   \n",
       "93862  [9, 10, 11, 37, 38, 39, 178, 179, 185, 186, 25...   \n",
       "\n",
       "                                        TARGET2  \\\n",
       "79763                                  [P04818]   \n",
       "85521                                  [P04818]   \n",
       "87088                                  [P04818]   \n",
       "87800  [P14867, P43681, P36544, P42262, Q13002]   \n",
       "90025                  [P17948, P35968, P35916]   \n",
       "80502                                  [Q99835]   \n",
       "91899                                  [P55157]   \n",
       "89704                  [P17948, P35968, P35916]   \n",
       "89941                                  [P55157]   \n",
       "93862                          [P15538, P10109]   \n",
       "\n",
       "                                                 ENZYME2  \\\n",
       "79763           [P19971, P23141, Q12882, P32320, P11712]   \n",
       "85521           [P19971, P23141, Q12882, P32320, P11712]   \n",
       "87088  [P05177, P19971, P11712, Q12882, Q16831, O9504...   \n",
       "87800  [P33261, P11712, P20813, P10632, P08684, P0517...   \n",
       "90025           [P08684, P20815, P05177, P33261, P22309]   \n",
       "80502                   [P11712, P08684, P10632, P33261]   \n",
       "91899                                           [P08684]   \n",
       "89704           [P08684, P20815, P05177, P33261, P22309]   \n",
       "89941                                           [P08684]   \n",
       "93862                                           [P08684]   \n",
       "\n",
       "                                                   PATH2  \\\n",
       "79763           [hsa00240, hsa00670, hsa01100, hsa01523]   \n",
       "85521           [hsa00240, hsa00670, hsa01100, hsa01523]   \n",
       "87088           [hsa00240, hsa00670, hsa01100, hsa01523]   \n",
       "87800  [hsa04080, hsa04723, hsa04727, hsa04742, hsa05...   \n",
       "90025  [hsa04014, hsa04015, hsa04060, hsa04066, hsa04...   \n",
       "80502  [hsa04340, hsa04360, hsa05200, hsa05205, hsa05...   \n",
       "91899                                         [hsa04975]   \n",
       "89704  [hsa04014, hsa04015, hsa04060, hsa04066, hsa04...   \n",
       "89941                                         [hsa04975]   \n",
       "93862                               [hsa00140, hsa01100]   \n",
       "\n",
       "                                           SIDE_EFFECTS2  \\\n",
       "79763  [C0000731, C0000737, C0000768, C0001824, C0002...   \n",
       "85521  [C0000731, C0000737, C0000768, C0001824, C0002...   \n",
       "87088  [C0000768, C0000786, C0001824, C0002170, C0002...   \n",
       "87800  [C0000768, C0002888, C0002994, C0003578, C0004...   \n",
       "90025  [C0000737, C0002170, C0002871, C0003862, C0004...   \n",
       "80502  [C0000737, C0002170, C0002453, C0003862, C0004...   \n",
       "91899  [C0000731, C0000737, C0001707, C0002871, C0002...   \n",
       "89704  [C0000737, C0002170, C0002871, C0003862, C0004...   \n",
       "89941  [C0000731, C0000737, C0001707, C0002871, C0002...   \n",
       "93862  [C0001623, C0001807, C0001925, C0002871, C0003...   \n",
       "\n",
       "                                            INDICATIONS2  \\\n",
       "79763  [C0006142, C0006826, C0009402, C0020433, C0027...   \n",
       "85521  [C0006142, C0006826, C0009402, C0020433, C0027...   \n",
       "87088  [C0006079, C0006826, C0007097, C0007114, C0007...   \n",
       "87800  [C0003467, C0008354, C0008489, C0009952, C0013...   \n",
       "90025                                         [C0007134]   \n",
       "80502                                         [C0007117]   \n",
       "91899                     [C0020443, C0342881, C0549399]   \n",
       "89704                                         [C0007134]   \n",
       "89941                     [C0020443, C0342881, C0549399]   \n",
       "93862                     [C0006826, C0206686, C1370740]   \n",
       "\n",
       "                                         OFFSIDE_EFFECT2  INTERACTION  \n",
       "79763  [10022972, 10034695, 10002034, 10002064, 10052...            0  \n",
       "85521  [10022972, 10034695, 10002034, 10002064, 10052...            0  \n",
       "87088  [10022972, 10034695, 10002034, 10002064, 10002...            0  \n",
       "87800  [10022972, 10034695, 10002034, 10002064, 10002...            0  \n",
       "90025  [10002034, 10058116, 10065553, 10033661, 10021...            0  \n",
       "80502  [10002034, 10065553, 10020578, 10023126, 10028...            0  \n",
       "91899  [10021688, 10025197, 10041660, 10043071, 10003...            0  \n",
       "89704  [10002034, 10058116, 10065553, 10033661, 10021...            0  \n",
       "89941  [10021688, 10025197, 10041660, 10043071, 10003...            0  \n",
       "93862  [10022972, 10002034, 10051779, 10053213, 10033...            0  "
      ]
     },
     "execution_count": 122,
     "metadata": {},
     "output_type": "execute_result"
    }
   ],
   "source": [
    "cos_sims = np.array([(i, np.dot(concatenated_encodings[i][0], concatenated_encodings[i][1]) / (norm(concatenated_encodings[i][0]) * norm(concatenated_encodings[i][1]))) for i in range(len(concatenated_encodings))])\n",
    "new_preds = cos_sims[[label==0 for label in labels]]\n",
    "sorted_preds = new_preds[new_preds[:, 1].argsort()][::-1][:10]\n",
    "indices = list(sorted_preds[:, 0])\n",
    "indices = [int(index + len(structure_train_data))for index in indices]\n",
    "df.iloc[indices]"
   ]
  }
 ],
 "metadata": {
  "kernelspec": {
   "display_name": "Python 3",
   "language": "python",
   "name": "python3"
  },
  "language_info": {
   "codemirror_mode": {
    "name": "ipython",
    "version": 3
   },
   "file_extension": ".py",
   "mimetype": "text/x-python",
   "name": "python",
   "nbconvert_exporter": "python",
   "pygments_lexer": "ipython3",
   "version": "3.8.10"
  }
 },
 "nbformat": 4,
 "nbformat_minor": 5
}
