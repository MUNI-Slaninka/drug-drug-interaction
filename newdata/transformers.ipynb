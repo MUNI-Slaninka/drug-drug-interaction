{
 "cells": [
  {
   "cell_type": "code",
   "execution_count": 8,
   "id": "12d35154f3b641b7",
   "metadata": {
    "ExecuteTime": {
     "start_time": "2024-04-29T16:34:37.279712800Z"
    },
    "collapsed": false,
    "is_executing": true
   },
   "outputs": [
    {
     "name": "stdout",
     "output_type": "stream",
     "text": [
      "Looking in indexes: https://download.pytorch.org/whl/cu118\n",
      "Requirement already satisfied: torch in c:\\users\\adamm\\appdata\\local\\packages\\pythonsoftwarefoundation.python.3.11_qbz5n2kfra8p0\\localcache\\local-packages\\python311\\site-packages (2.3.0+cu118)\n",
      "Requirement already satisfied: torchvision in c:\\users\\adamm\\appdata\\local\\packages\\pythonsoftwarefoundation.python.3.11_qbz5n2kfra8p0\\localcache\\local-packages\\python311\\site-packages (0.18.0+cu118)\n",
      "Requirement already satisfied: torchaudio in c:\\users\\adamm\\appdata\\local\\packages\\pythonsoftwarefoundation.python.3.11_qbz5n2kfra8p0\\localcache\\local-packages\\python311\\site-packages (2.3.0+cu118)\n",
      "Requirement already satisfied: filelock in c:\\users\\adamm\\appdata\\local\\packages\\pythonsoftwarefoundation.python.3.11_qbz5n2kfra8p0\\localcache\\local-packages\\python311\\site-packages (from torch) (3.12.0)\n",
      "Requirement already satisfied: typing-extensions>=4.8.0 in c:\\users\\adamm\\appdata\\local\\packages\\pythonsoftwarefoundation.python.3.11_qbz5n2kfra8p0\\localcache\\local-packages\\python311\\site-packages (from torch) (4.9.0)\n",
      "Requirement already satisfied: sympy in c:\\users\\adamm\\appdata\\local\\packages\\pythonsoftwarefoundation.python.3.11_qbz5n2kfra8p0\\localcache\\local-packages\\python311\\site-packages (from torch) (1.11.1)\n",
      "Requirement already satisfied: networkx in c:\\users\\adamm\\appdata\\local\\packages\\pythonsoftwarefoundation.python.3.11_qbz5n2kfra8p0\\localcache\\local-packages\\python311\\site-packages (from torch) (3.1)\n",
      "Requirement already satisfied: jinja2 in c:\\users\\adamm\\appdata\\local\\packages\\pythonsoftwarefoundation.python.3.11_qbz5n2kfra8p0\\localcache\\local-packages\\python311\\site-packages (from torch) (3.1.2)\n",
      "Requirement already satisfied: fsspec in c:\\users\\adamm\\appdata\\local\\packages\\pythonsoftwarefoundation.python.3.11_qbz5n2kfra8p0\\localcache\\local-packages\\python311\\site-packages (from torch) (2024.2.0)\n",
      "Requirement already satisfied: mkl<=2021.4.0,>=2021.1.1 in c:\\users\\adamm\\appdata\\local\\packages\\pythonsoftwarefoundation.python.3.11_qbz5n2kfra8p0\\localcache\\local-packages\\python311\\site-packages (from torch) (2021.4.0)\n",
      "Requirement already satisfied: numpy in c:\\users\\adamm\\appdata\\local\\packages\\pythonsoftwarefoundation.python.3.11_qbz5n2kfra8p0\\localcache\\local-packages\\python311\\site-packages (from torchvision) (1.24.3)\n",
      "Requirement already satisfied: pillow!=8.3.*,>=5.3.0 in c:\\users\\adamm\\appdata\\local\\packages\\pythonsoftwarefoundation.python.3.11_qbz5n2kfra8p0\\localcache\\local-packages\\python311\\site-packages (from torchvision) (9.5.0)\n",
      "Requirement already satisfied: intel-openmp==2021.* in c:\\users\\adamm\\appdata\\local\\packages\\pythonsoftwarefoundation.python.3.11_qbz5n2kfra8p0\\localcache\\local-packages\\python311\\site-packages (from mkl<=2021.4.0,>=2021.1.1->torch) (2021.4.0)\n",
      "Requirement already satisfied: tbb==2021.* in c:\\users\\adamm\\appdata\\local\\packages\\pythonsoftwarefoundation.python.3.11_qbz5n2kfra8p0\\localcache\\local-packages\\python311\\site-packages (from mkl<=2021.4.0,>=2021.1.1->torch) (2021.11.0)\n",
      "Requirement already satisfied: MarkupSafe>=2.0 in c:\\users\\adamm\\appdata\\local\\packages\\pythonsoftwarefoundation.python.3.11_qbz5n2kfra8p0\\localcache\\local-packages\\python311\\site-packages (from jinja2->torch) (2.1.2)\n",
      "Requirement already satisfied: mpmath>=0.19 in c:\\users\\adamm\\appdata\\local\\packages\\pythonsoftwarefoundation.python.3.11_qbz5n2kfra8p0\\localcache\\local-packages\\python311\\site-packages (from sympy->torch) (1.3.0)\n"
     ]
    },
    {
     "name": "stderr",
     "output_type": "stream",
     "text": [
      "\n",
      "[notice] A new release of pip is available: 23.1.2 -> 24.0\n",
      "[notice] To update, run: C:\\Users\\adamm\\AppData\\Local\\Microsoft\\WindowsApps\\PythonSoftwareFoundation.Python.3.11_qbz5n2kfra8p0\\python.exe -m pip install --upgrade pip\n",
      "ERROR: Could not find a version that satisfies the requirement sentence_transformers==4.37.2 (from versions: 0.1.0, 0.2.0, 0.2.1, 0.2.2, 0.2.3, 0.2.4, 0.2.4.1, 0.2.5, 0.2.5.1, 0.2.6, 0.2.6.1, 0.2.6.2, 0.3.0, 0.3.1, 0.3.2, 0.3.3, 0.3.4, 0.3.5, 0.3.5.1, 0.3.6, 0.3.7, 0.3.7.1, 0.3.7.2, 0.3.8, 0.3.9, 0.4.0, 0.4.1, 0.4.1.1, 0.4.1.2, 1.0.0, 1.0.1, 1.0.2, 1.0.3, 1.0.4, 1.1.0, 1.1.1, 1.2.0, 1.2.1, 2.0.0, 2.1.0, 2.2.0, 2.2.1, 2.2.2, 2.3.0, 2.3.1, 2.4.0, 2.5.0, 2.5.1, 2.6.0, 2.6.1, 2.7.0)\n",
      "ERROR: No matching distribution found for sentence_transformers==4.37.2\n",
      "\n",
      "[notice] A new release of pip is available: 23.1.2 -> 24.0\n",
      "[notice] To update, run: C:\\Users\\adamm\\AppData\\Local\\Microsoft\\WindowsApps\\PythonSoftwareFoundation.Python.3.11_qbz5n2kfra8p0\\python.exe -m pip install --upgrade pip\n"
     ]
    },
    {
     "name": "stdout",
     "output_type": "stream",
     "text": [
      "Requirement already satisfied: pandas in c:\\users\\adamm\\appdata\\local\\packages\\pythonsoftwarefoundation.python.3.11_qbz5n2kfra8p0\\localcache\\local-packages\\python311\\site-packages (2.0.1)\n",
      "Requirement already satisfied: python-dateutil>=2.8.2 in c:\\users\\adamm\\appdata\\local\\packages\\pythonsoftwarefoundation.python.3.11_qbz5n2kfra8p0\\localcache\\local-packages\\python311\\site-packages (from pandas) (2.8.2)\n",
      "Requirement already satisfied: pytz>=2020.1 in c:\\users\\adamm\\appdata\\local\\packages\\pythonsoftwarefoundation.python.3.11_qbz5n2kfra8p0\\localcache\\local-packages\\python311\\site-packages (from pandas) (2023.3)\n",
      "Requirement already satisfied: tzdata>=2022.1 in c:\\users\\adamm\\appdata\\local\\packages\\pythonsoftwarefoundation.python.3.11_qbz5n2kfra8p0\\localcache\\local-packages\\python311\\site-packages (from pandas) (2023.3)\n",
      "Requirement already satisfied: numpy>=1.21.0 in c:\\users\\adamm\\appdata\\local\\packages\\pythonsoftwarefoundation.python.3.11_qbz5n2kfra8p0\\localcache\\local-packages\\python311\\site-packages (from pandas) (1.24.3)\n",
      "Requirement already satisfied: six>=1.5 in c:\\users\\adamm\\appdata\\local\\packages\\pythonsoftwarefoundation.python.3.11_qbz5n2kfra8p0\\localcache\\local-packages\\python311\\site-packages (from python-dateutil>=2.8.2->pandas) (1.16.0)\n"
     ]
    },
    {
     "name": "stderr",
     "output_type": "stream",
     "text": [
      "\n",
      "[notice] A new release of pip is available: 23.1.2 -> 24.0\n",
      "[notice] To update, run: C:\\Users\\adamm\\AppData\\Local\\Microsoft\\WindowsApps\\PythonSoftwareFoundation.Python.3.11_qbz5n2kfra8p0\\python.exe -m pip install --upgrade pip\n"
     ]
    }
   ],
   "source": [
    "! pip install sklearn\n",
    "! pip install pandas\n",
    "! pip install tqdm\n",
    "! pip install -U sentence-transformers\n",
    "! pip install torch torchvision torchaudio --index-url https://download.pytorch.org/whl/cu121"
   ]
  },
  {
   "cell_type": "code",
   "execution_count": 35,
   "id": "initial_id",
   "metadata": {
    "collapsed": true,
    "is_executing": true
   },
   "outputs": [],
   "source": [
    "import pandas as pd\n",
    "import torch\n",
    "import random\n",
    "\n",
    "from sentence_transformers import SentenceTransformer, losses, models, evaluation\n",
    "from sentence_transformers.readers import InputExample\n",
    "from torch.utils.data import DataLoader\n",
    "from torch import nn\n",
    "from sklearn.metrics import matthews_corrcoef, f1_score, classification_report\n",
    "\n",
    "from numpy.linalg import norm\n",
    "import numpy as np\n",
    "from tqdm import tqdm"
   ]
  },
  {
   "cell_type": "markdown",
   "id": "484901b018a55919",
   "metadata": {
    "collapsed": false
   },
   "source": [
    "Create drug-pairs dataset"
   ]
  },
  {
   "cell_type": "code",
   "execution_count": 2,
   "id": "4281d7af6cbdb163",
   "metadata": {
    "ExecuteTime": {
     "end_time": "2024-04-29T16:32:47.010847300Z",
     "start_time": "2024-04-29T16:32:07.261639600Z"
    },
    "collapsed": false
   },
   "outputs": [],
   "source": [
    "df = pd.read_json(\"processed.json\")\n",
    "df.drop(columns=['DRUG_CID', \"DRUG_NAME\"], inplace=True)\n",
    "df['INDEX'] = df.index\n",
    "df1 = df.copy()\n",
    "df2 = df.copy()\n",
    "df1.columns = ['DRUG_ID1', 'INTERACTIONS1', 'STRUCTURE1', 'TARGET1', 'ENZYME1', 'PATH1', 'SIDE_EFFECTS1', 'INDICATIONS1', 'OFFSIDE_EFFECT1', 'INDEX1']\n",
    "df2.columns = ['DRUG_ID2', 'INTERACTIONS2', 'STRUCTURE2', 'TARGET2', 'ENZYME2', 'PATH2', 'SIDE_EFFECTS2', 'INDICATIONS2', 'OFFSIDE_EFFECT2', 'INDEX2']\n",
    "df = pd.merge(df1, df2, how=\"cross\")\n",
    "df = df[df['DRUG_ID1'] != df['DRUG_ID2']]\n",
    "df.reset_index(inplace=True)\n",
    "df['INTERACTION'] = df.apply(lambda row: row['INTERACTIONS1'][row['INDEX2']], axis=1)\n",
    "\n",
    "df['id_pair'] = df[['DRUG_ID1', 'DRUG_ID2']].apply(lambda x: '-'.join(sorted(map(str, x))), axis=1)\n",
    "df.drop_duplicates(subset='id_pair', inplace=True)\n",
    "df.dropna(inplace=True)\n",
    "df.drop(columns=[\"index\", 'INTERACTIONS1', 'INTERACTIONS2', 'INDEX1', 'INDEX2', 'id_pair'], inplace=True)"
   ]
  },
  {
   "cell_type": "code",
   "execution_count": 3,
   "id": "c9b0604b90523776",
   "metadata": {
    "collapsed": false
   },
   "outputs": [],
   "source": [
    "data = {}\n",
    "to_edit = ['STRUCTURE', 'TARGET', 'ENZYME', 'PATH', 'SIDE_EFFECTS', 'INDICATIONS', 'OFFSIDE_EFFECT']\n",
    "for column in to_edit:\n",
    "    column1 = column + '1'\n",
    "    column2 = column + '2'\n",
    "    data[column] = [InputExample(texts=[\" \".join(map(str, row[0])), \" \".join(map(str, row[1]))], label=row[2])\n",
    "                    for row in zip(df[column1], df[column2], df['INTERACTION'])]"
   ]
  },
  {
   "cell_type": "code",
   "execution_count": 14,
   "id": "46933e55",
   "metadata": {},
   "outputs": [],
   "source": [
    "random.shuffle(data['STRUCTURE'])\n",
    "split = int(len(data['STRUCTURE']) * 0.8)\n",
    "train_data = data['STRUCTURE'][:split]\n",
    "test_data = data['STRUCTURE'][split:]\n"
   ]
  },
  {
   "cell_type": "code",
   "execution_count": 45,
   "id": "18f5fd3bbbda0a3f",
   "metadata": {
    "ExecuteTime": {
     "end_time": "2024-04-29T16:33:56.648109300Z",
     "start_time": "2024-04-29T16:32:47.008846800Z"
    },
    "collapsed": false
   },
   "outputs": [],
   "source": [
    "\n",
    "word_embedding_model = models.Transformer(\"bert-base-uncased\", max_seq_length=256)\n",
    "pooling_model = models.Pooling(word_embedding_model.get_word_embedding_dimension())\n",
    "dense_model = models.Dense(\n",
    "    in_features=pooling_model.get_sentence_embedding_dimension(),\n",
    "    out_features=64,\n",
    "    activation_function=nn.Tanh(),\n",
    ")\n",
    "\n",
    "model = SentenceTransformer(modules=[word_embedding_model, pooling_model, dense_model])\n",
    "train_dataloader = DataLoader(train_data, batch_size=2)\n",
    "train_loss = losses.ContrastiveLoss(model=model)\n",
    "\n",
    "model.fit([(train_dataloader, train_loss)],epochs=10)\n",
    "model.save(\"structure_model\")\n"
   ]
  },
  {
   "cell_type": "code",
   "execution_count": 46,
   "id": "f4989415c48c8f85",
   "metadata": {
    "collapsed": false
   },
   "outputs": [
    {
     "name": "stderr",
     "output_type": "stream",
     "text": [
      "100%|██████████| 19847/19847 [04:11<00:00, 79.05it/s]\n"
     ]
    }
   ],
   "source": [
    "texts = [example.texts for example in test_data]\n",
    "labels = [example.label for example in test_data]\n",
    "encodings = [model.encode(text, convert_to_numpy=True, convert_to_tensor=False) for text in tqdm(texts)] "
   ]
  },
  {
   "cell_type": "code",
   "execution_count": 51,
   "id": "0fa6c93d",
   "metadata": {},
   "outputs": [
    {
     "name": "stdout",
     "output_type": "stream",
     "text": [
      "Matthews Correlation Coefficient: 0.7740839082548105\n",
      "              precision    recall  f1-score   support\n",
      "\n",
      "           0       0.92      0.94      0.93     13373\n",
      "           1       0.86      0.83      0.85      6474\n",
      "\n",
      "    accuracy                           0.90     19847\n",
      "   macro avg       0.89      0.88      0.89     19847\n",
      "weighted avg       0.90      0.90      0.90     19847\n",
      "\n"
     ]
    },
    {
     "data": {
      "text/plain": [
       "79388"
      ]
     },
     "execution_count": 51,
     "metadata": {},
     "output_type": "execute_result"
    }
   ],
   "source": [
    "predictions = [1 if np.dot(e[0], e[1]) / (norm(e[0]) * norm(e[1])) > 0.7 else 0 for e in encodings]\n",
    "\n",
    "matthews = matthews_corrcoef(labels, predictions)\n",
    "print(\"Matthews Correlation Coefficient:\", matthews)\n",
    "print(classification_report(labels, predictions))\n",
    "len(train_data)"
   ]
  },
  {
   "cell_type": "code",
   "execution_count": null,
   "id": "76d4d0d9",
   "metadata": {},
   "outputs": [],
   "source": [
    "random.shuffle(data['TARGET'])\n",
    "split = int(len(data['TARGET']) * 0.8)\n",
    "train_data = data['TARGET'][:split]\n",
    "test_data = data['TARGET'][split:]"
   ]
  },
  {
   "cell_type": "code",
   "execution_count": null,
   "id": "e5e0c317",
   "metadata": {},
   "outputs": [],
   "source": [
    "word_embedding_model = models.Transformer(\"bert-base-uncased\", max_seq_length=64)\n",
    "pooling_model = models.Pooling(word_embedding_model.get_word_embedding_dimension())\n",
    "dense_model = models.Dense(\n",
    "    in_features=pooling_model.get_sentence_embedding_dimension(),\n",
    "    out_features=64,\n",
    "    activation_function=nn.Tanh(),\n",
    ")\n",
    "\n",
    "model = SentenceTransformer(modules=[word_embedding_model, pooling_model, dense_model])\n",
    "train_dataloader = DataLoader(train_data, batch_size=2)\n",
    "train_loss = losses.ContrastiveLoss(model=model)\n",
    "\n",
    "model.fit([(train_dataloader, train_loss)],epochs=10)\n",
    "model.save(\"target_model\")\n"
   ]
  }
 ],
 "metadata": {
  "kernelspec": {
   "display_name": "Python 3",
   "language": "python",
   "name": "python3"
  },
  "language_info": {
   "codemirror_mode": {
    "name": "ipython",
    "version": 3
   },
   "file_extension": ".py",
   "mimetype": "text/x-python",
   "name": "python",
   "nbconvert_exporter": "python",
   "pygments_lexer": "ipython3",
   "version": "3.8.10"
  }
 },
 "nbformat": 4,
 "nbformat_minor": 5
}
