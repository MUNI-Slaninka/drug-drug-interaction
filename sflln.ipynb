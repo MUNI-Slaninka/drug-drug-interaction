{
 "cells": [
  {
   "cell_type": "code",
   "execution_count": 1,
   "metadata": {},
   "outputs": [],
   "source": [
    "import numpy as np\n",
    "import pandas as pd\n",
    "from pathlib import Path"
   ]
  },
  {
   "cell_type": "markdown",
   "metadata": {},
   "source": [
    "# Loading data"
   ]
  },
  {
   "cell_type": "code",
   "execution_count": 2,
   "metadata": {},
   "outputs": [],
   "source": [
    "from sklearn.base import BaseEstimator, TransformerMixin, ClassNamePrefixFeaturesOutMixin\n",
    "from sklearn.feature_extraction.text import CountVectorizer\n",
    "\n",
    "\n",
    "class LabelVectorizer(CountVectorizer):\n",
    "    def __init__(self):\n",
    "        super().__init__(stop_words=None)\n",
    "\n",
    "    def fit(self, X, y=None):\n",
    "        super().fit(''.join(X).split('|'))\n",
    "        return self\n",
    "    \n",
    "\n",
    "class IndexVectorizer(BaseEstimator, TransformerMixin, ClassNamePrefixFeaturesOutMixin):\n",
    "    def __init__(self):\n",
    "        pass\n",
    "\n",
    "    def fit(self, X, y=None):\n",
    "        self._n_features_out = X.map(lambda x: max(eval(x))).max() + 1\n",
    "        return self\n",
    "\n",
    "    def transform(self, X):\n",
    "        result = np.zeros((len(X), self._n_features_out))\n",
    "        for i, x in enumerate(X):\n",
    "            result[i, eval(x)] = 1\n",
    "        return result"
   ]
  },
  {
   "cell_type": "code",
   "execution_count": 3,
   "metadata": {},
   "outputs": [],
   "source": [
    "from sklearn.compose import ColumnTransformer\n",
    "\n",
    "data_path = Path('dataset/sflln')\n",
    "\n",
    "features = pd.read_csv(data_path / 'drug_features.csv', header=0)\n",
    "  \n",
    "ct = ColumnTransformer([\n",
    "    ('Structure', IndexVectorizer(), 'STRUCTURE'),\n",
    "    ('Target', LabelVectorizer(), 'TARGET'),\n",
    "    ('Enzyme', LabelVectorizer(), 'ENZYME'),\n",
    "    ('Pathway', LabelVectorizer(), 'PATH'),\n",
    "])\n",
    "processed_features = ct.fit_transform(features) == 0\n",
    "\n",
    "with open(data_path / 'interactions.txt') as f:\n",
    "    interactions = np.array(eval(f.read()), dtype=bool)\n",
    "    # make sure it is symmetric\n",
    "    interactions = np.maximum(interactions, interactions.transpose())"
   ]
  },
  {
   "cell_type": "code",
   "execution_count": 4,
   "metadata": {},
   "outputs": [],
   "source": [
    "def drug_pair_to_index(first_id: int, second_id: int) -> int:\n",
    "    return first_id * interactions.shape[0] + second_id\n",
    "\n",
    "def index_to_drug_pair(index: int) -> tuple[int, int]:\n",
    "    return index // interactions.shape[0], index % interactions.shape[0]\n",
    "\n",
    "def get_feature_name_from_index(ct: ColumnTransformer, index: int) -> str:\n",
    "    return ct.get_feature_names_out()[index % len(ct.get_feature_names_out())]"
   ]
  },
  {
   "cell_type": "code",
   "execution_count": 71,
   "metadata": {},
   "outputs": [],
   "source": [
    "index = np.triu_indices_from(interactions, k=1)\n",
    "y = interactions[index]"
   ]
  },
  {
   "cell_type": "code",
   "execution_count": 74,
   "metadata": {},
   "outputs": [],
   "source": [
    "X = np.hstack([\n",
    "    np.concatenate((processed_features[a], processed_features[b]))\n",
    "    for a, b in zip(*index)\n",
    "], dtype=bool).reshape((y.shape[0], -1))"
   ]
  },
  {
   "cell_type": "code",
   "execution_count": 7,
   "metadata": {},
   "outputs": [],
   "source": [
    "from sklearn.model_selection import train_test_split\n",
    "\n",
    "train_X, X_test, y_train, y_test, train_indices, test_indices = train_test_split(X, y, np.arange(X.shape[0]), test_size=0.2, random_state=42)"
   ]
  },
  {
   "cell_type": "code",
   "execution_count": 8,
   "metadata": {},
   "outputs": [],
   "source": [
    "from sklearn.tree import DecisionTreeClassifier\n",
    "\n",
    "clf = DecisionTreeClassifier(random_state=42).fit(train_X, y_train)\n",
    "pred = clf.predict(X_test)"
   ]
  },
  {
   "cell_type": "code",
   "execution_count": 9,
   "metadata": {},
   "outputs": [
    {
     "name": "stdout",
     "output_type": "stream",
     "text": [
      "0.6721664735756001\n"
     ]
    }
   ],
   "source": [
    "from sklearn.metrics import matthews_corrcoef\n",
    "\n",
    "print(matthews_corrcoef(y_test, pred))"
   ]
  },
  {
   "cell_type": "code",
   "execution_count": 86,
   "metadata": {},
   "outputs": [
    {
     "name": "stdout",
     "output_type": "stream",
     "text": [
      "Predicting interaction DB00822 <==> DB00851\n",
      "Enzyme__p08684\n",
      "decision node 0 : (X_test[1, 3663] = True)  0.5)\n",
      "Structure__indexvectorizer570\n",
      "decision node 49602 : (X_test[1, 2606] = False)  0.5)\n",
      "Pathway__hsa04726\n",
      "decision node 49603 : (X_test[1, 1920] = True)  0.5)\n",
      "Enzyme__p10632\n",
      "decision node 54651 : (X_test[1, 1634] = False)  0.5)\n",
      "Enzyme__p11712\n",
      "decision node 54652 : (X_test[1, 3676] = False)  0.5)\n",
      "Enzyme__p33261\n",
      "decision node 54653 : (X_test[1, 1687] = False)  0.5)\n",
      "Pathway__hsa04727\n",
      "decision node 54654 : (X_test[1, 1921] = True)  0.5)\n",
      "Structure__indexvectorizer797\n",
      "decision node 54688 : (X_test[1, 2833] = True)  0.5)\n",
      "Enzyme__p33261\n",
      "decision node 54786 : (X_test[1, 3723] = False)  0.5)\n",
      "Structure__indexvectorizer791\n",
      "decision node 54787 : (X_test[1, 2827] = True)  0.5)\n",
      "Structure__indexvectorizer421\n",
      "decision node 54797 : (X_test[1, 421] = True)  0.5)\n",
      "Structure__indexvectorizer650\n",
      "decision node 54809 : (X_test[1, 650] = True)  0.5)\n",
      "Pathway__hsa04725\n",
      "decision node 54831 : (X_test[1, 1919] = True)  0.5)\n",
      "Structure__indexvectorizer500\n",
      "decision node 54835 : (X_test[1, 500] = True)  0.5)\n",
      "Pathway__hsa05323\n",
      "decision node 54849 : (X_test[1, 4063] = True)  0.5)\n",
      "Target__q96rd7\n",
      "decision node 54877 : (X_test[1, 1503] = True)  0.5)\n",
      "Pathway__hsa05134\n",
      "decision node 54881 : (X_test[1, 1982] = True)  0.5)\n",
      "Pathway__hsa04915\n",
      "decision node 54887 : (X_test[1, 1934] = False)  0.5)\n",
      "Enzyme__p11509\n",
      "decision node 54888 : (X_test[1, 1638] = False)  0.5)\n",
      "Target__p41145\n",
      "decision node 54889 : (X_test[1, 3302] = False)  0.5)\n",
      "Structure__indexvectorizer614\n",
      "decision node 54890 : (X_test[1, 614] = False)  0.5)\n"
     ]
    }
   ],
   "source": [
    "sample_id = 1\n",
    "feature = clf.tree_.feature\n",
    "threshold = clf.tree_.threshold\n",
    "node_indicator = clf.decision_path(X_test)\n",
    "leaf_id = clf.apply(X_test)\n",
    "\n",
    "# obtain ids of the nodes `sample_id` goes through, i.e., row `sample_id`\n",
    "node_index = node_indicator.indices[\n",
    "    node_indicator.indptr[sample_id] : node_indicator.indptr[sample_id + 1]\n",
    "]\n",
    "\n",
    "first_id, second_id = index[0][test_indices[1]], index[1][test_indices[1]]\n",
    "first_name, second_name = features['DRUG ID'][first_id], features['DRUG ID'][second_id]\n",
    "print(f'Predicting interaction {first_name} <==> {second_name}')\n",
    "for node_id in node_index:\n",
    "    # continue to the next node if it is a leaf node\n",
    "    if leaf_id[sample_id] == node_id:\n",
    "        continue\n",
    "\n",
    "    feature_names = ct.get_feature_names_out()\n",
    "    feature_id = feature[node_id]\n",
    "    belongs_to_first = feature_id >= len(feature_names)\n",
    "    feature_id %= len(feature_names)\n",
    "\n",
    "    print('{drug_name} {has} {feature}'.format(\n",
    "            drug_name=first_name if belongs_to_first else second_name,\n",
    "            has='has' if belongs_to_first else 'does not have',\n",
    "            feature=feature_names[feature_id]\n",
    "        )\n",
    "    )\n",
    "\n",
    "    print(\n",
    "        'decision node {node} : (X_test[{sample}, {feature}] = {value}) '\n",
    "        ' {threshold})'.format(\n",
    "            node=node_id,\n",
    "            sample=sample_id,\n",
    "            feature=feature[node_id],\n",
    "            value=X_test[sample_id, feature[node_id]],\n",
    "            threshold=threshold[node_id],\n",
    "        )\n",
    "    )"
   ]
  },
  {
   "cell_type": "code",
   "execution_count": 85,
   "metadata": {},
   "outputs": [
    {
     "data": {
      "text/plain": [
       "'Pathway__hsa05416'"
      ]
     },
     "execution_count": 85,
     "metadata": {},
     "output_type": "execute_result"
    }
   ],
   "source": [
    "get_feature_name_from_index(ct, feature[node_id])"
   ]
  },
  {
   "cell_type": "code",
   "execution_count": null,
   "metadata": {},
   "outputs": [
    {
     "data": {
      "text/plain": [
       "array(['structure_vectorizer__indexvectorizer0',\n",
       "       'structure_vectorizer__indexvectorizer1',\n",
       "       'structure_vectorizer__indexvectorizer2', ...,\n",
       "       'pathway_vectorizer__hsa05414', 'pathway_vectorizer__hsa05416',\n",
       "       'pathway_vectorizer__hsa05418'], dtype=object)"
      ]
     },
     "execution_count": 21,
     "metadata": {},
     "output_type": "execute_result"
    }
   ],
   "source": [
    "ct.get_feature_names_out()"
   ]
  },
  {
   "cell_type": "code",
   "execution_count": null,
   "metadata": {},
   "outputs": [
    {
     "ename": "AttributeError",
     "evalue": "'ColumnTransformer' object has no attribute 'n_features_out_'",
     "output_type": "error",
     "traceback": [
      "\u001b[1;31m---------------------------------------------------------------------------\u001b[0m",
      "\u001b[1;31mAttributeError\u001b[0m                            Traceback (most recent call last)",
      "Cell \u001b[1;32mIn[20], line 1\u001b[0m\n\u001b[1;32m----> 1\u001b[0m \u001b[43mct\u001b[49m\u001b[38;5;241;43m.\u001b[39;49m\u001b[43mn_features_out_\u001b[49m\n",
      "\u001b[1;31mAttributeError\u001b[0m: 'ColumnTransformer' object has no attribute 'n_features_out_'"
     ]
    }
   ],
   "source": [
    "ct.n_features_out_"
   ]
  }
 ],
 "metadata": {
  "kernelspec": {
   "display_name": ".venv",
   "language": "python",
   "name": "python3"
  },
  "language_info": {
   "codemirror_mode": {
    "name": "ipython",
    "version": 3
   },
   "file_extension": ".py",
   "mimetype": "text/x-python",
   "name": "python",
   "nbconvert_exporter": "python",
   "pygments_lexer": "ipython3",
   "version": "3.12.2"
  }
 },
 "nbformat": 4,
 "nbformat_minor": 2
}
