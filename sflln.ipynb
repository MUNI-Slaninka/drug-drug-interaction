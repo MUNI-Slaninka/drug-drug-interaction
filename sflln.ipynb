{
 "cells": [
  {
   "cell_type": "code",
   "execution_count": null,
   "metadata": {},
   "outputs": [],
   "source": [
    "import numpy as np\n",
    "import pandas as pd\n",
    "from pathlib import Path"
   ]
  },
  {
   "cell_type": "code",
   "execution_count": null,
   "metadata": {},
   "outputs": [],
   "source": [
    "from sklearn.feature_extraction.text import CountVectorizer\n",
    "\n",
    "\n",
    "class LabelVectorizer(CountVectorizer):\n",
    "    def __init__(self):\n",
    "        super().__init__(stop_words=None)\n",
    "\n",
    "    def fit(self, X, y=None):\n",
    "        super().fit(''.join(X).split('|'))\n",
    "        return self"
   ]
  },
  {
   "cell_type": "code",
   "execution_count": null,
   "metadata": {},
   "outputs": [],
   "source": [
    "from sklearn.compose import ColumnTransformer\n",
    "\n",
    "data_path = Path('dataset/sflln')\n",
    "\n",
    "features = pd.read_csv(data_path / 'drug_features.csv', header=0)\n",
    "  \n",
    "ct = ColumnTransformer([\n",
    "    ('target_vectorizer', LabelVectorizer(), 'TARGET'),\n",
    "    ('enzyme_vectorizer', LabelVectorizer(), 'ENZYME'),\n",
    "    ('pathway_vectorizer', LabelVectorizer(), 'PATH'),\n",
    "])\n",
    "X_trans = ct.fit_transform(features)  \n",
    "\n",
    "with open(data_path / 'interactions.txt') as f:\n",
    "    interactions = np.array(eval(f.read()))"
   ]
  },
  {
   "cell_type": "code",
   "execution_count": null,
   "metadata": {},
   "outputs": [],
   "source": [
    "X_trans.todense().shape"
   ]
  },
  {
   "cell_type": "code",
   "execution_count": null,
   "metadata": {},
   "outputs": [],
   "source": [
    "693\t+ 150 + 279"
   ]
  }
 ],
 "metadata": {
  "kernelspec": {
   "display_name": ".venv",
   "language": "python",
   "name": "python3"
  },
  "language_info": {
   "codemirror_mode": {
    "name": "ipython",
    "version": 3
   },
   "file_extension": ".py",
   "mimetype": "text/x-python",
   "name": "python",
   "nbconvert_exporter": "python",
   "pygments_lexer": "ipython3",
   "version": "3.12.2"
  }
 },
 "nbformat": 4,
 "nbformat_minor": 2
}
